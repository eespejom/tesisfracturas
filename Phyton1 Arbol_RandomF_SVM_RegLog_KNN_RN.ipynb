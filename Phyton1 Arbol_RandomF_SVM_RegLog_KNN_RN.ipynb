{
  "cells": [
    {
      "cell_type": "markdown",
      "metadata": {
        "id": "OkU-PQGikyl-"
      },
      "source": [
        "# **ARBOL, BOSQUE ALEATORIO, SVM, KNN, REGRESION LOGÍSTICA**\n",
        "Edgar Espejo Mora"
      ]
    },
    {
      "cell_type": "markdown",
      "metadata": {
        "id": "eiRnyuXwlStS"
      },
      "source": [
        "# **DESCRIPCIÓN DE LOS DATOS A USAR**\n",
        "\n",
        "Se trata de 12000 curvas x-y o espectros obtenidos a partir de imágenes de superficies de fractura, las cuales pertenecen a tres categorías posibles: Fractura dúctil, fractura frágil y fractura por fatiga. El eje \"y\" representa el nivel de intensidad o brillo (de 0 a 1) para cada punto x. En total se tienen 200 puntos para el eje x de cada curva."
      ]
    },
    {
      "cell_type": "markdown",
      "metadata": {
        "id": "DDF6zJZlm3Gp"
      },
      "source": [
        "## **1. Entendimiento del Negocio o Aplicación**\n",
        "\n"
      ]
    },
    {
      "cell_type": "markdown",
      "metadata": {
        "id": "LfOFe5VYnblx"
      },
      "source": [
        "### **1.1. Objetivo de la Aplicación**\n",
        "\n",
        "Se busca verificar si existe diferencia significativa entre las curvas para las tres categorías posibles, con lo cual se puede desarrollar un clasificador que pronostique a partir del suministro de la curva, el tipo de fractura a la\n",
        " cual pertenece, usando técnicas de clasificación supervisada."
      ]
    },
    {
      "cell_type": "markdown",
      "metadata": {
        "id": "7KeNHc_mpLNC"
      },
      "source": [
        "### **1.2. Situación Actual**\n",
        "\n",
        "Las 12000 curvas disponibles fueron suministradas por un profesional en el área de fractura de elementos mecánicos, que proporcionó el conocimiento experto para poder categorizar cada una de ellas y poder evaluar así algoritmos de clasificación supervisada."
      ]
    },
    {
      "cell_type": "markdown",
      "metadata": {
        "id": "n1cWcd3VqCWZ"
      },
      "source": [
        "### **1.3. Metas**\n",
        "\n",
        "\n",
        "\n",
        "> Evaluar el desempeño de varios algoritmos de clasificación supervisada, para lo cual previamente se han dividido las 12000 curvas en 70% para entrenamiento y 30% para ensayo.\n",
        "\n",
        "\n",
        "> A partir de la evaluación anterior, proponer el algotitmo más conveniente para aplicarse en esta tarea.\n",
        "\n",
        "\n",
        "\n"
      ]
    },
    {
      "cell_type": "markdown",
      "metadata": {
        "id": "BUp-OszLrccb"
      },
      "source": [
        "### **1.4. Planeación**\n",
        "\n",
        "El análisis de los datos se hará en las siguientes fases:\n",
        "\n",
        "\n",
        "\n",
        "> Etiquetado de los datos: Cada una de las curvas disponibles ya fue categorizada con tres números por el experto en fracturas, en los tres niveles a saber: 1. fractura dúctil, 2. fractura frágil y 3. fractura por fatiga.\n",
        "\n",
        "\n",
        "> Separación en los grupos de entrenamiento y prueba: El experto ya separó los datos en 70% para entrenamiento y 30% para prueba, manteniendo en cada grupo la misma proporción de casos de los tres tipos de curvas.\n",
        "\n",
        "\n",
        "> Planteamiento de los modelos: Se compará el desempeño de los modelos de clasificación 1. Arbol de decisión, 2. Random Forest, 3. SVM, 4. Regresión logística, 5. KNN y 6. Red Neuronal, variando algunos de sus hiperparámetros. Usándose medidas de exactitud, presición, recall, F1 y tiempo de cálculo. Durante la etapa de entrenamiento de los modelos se usarán 3 pliegues.\n",
        "\n",
        "\n",
        "> Conclusiones: A partir de los resultados anteriores se sacarán unas conclusiones, sobre los mejores clasificadores para los datos usados.\n",
        "\n",
        "\n",
        "\n",
        "\n",
        "\n",
        "\n",
        "\n",
        "\n",
        "\n",
        "\n",
        "\n",
        "\n",
        "\n"
      ]
    },
    {
      "cell_type": "markdown",
      "metadata": {
        "id": "aKkMzMOiuXlA"
      },
      "source": [
        "## **2. Entendimiento de los datos**\n",
        "\n",
        "A continuación se procede a cargar las librerías necesarias, los datos y gráficas que permiten entenderlos."
      ]
    },
    {
      "cell_type": "code",
      "execution_count": 5,
      "metadata": {
        "id": "OEdn1bUQ9VqR"
      },
      "outputs": [],
      "source": [
        "# Importar librerías\n",
        "import numpy as np\n",
        "import pandas as pd\n",
        "import matplotlib as mpl\n",
        "import matplotlib.pyplot as plt\n",
        "import seaborn as sns\n",
        "import sklearn"
      ]
    },
    {
      "cell_type": "code",
      "execution_count": 6,
      "metadata": {
        "id": "idniH-R3vY5q"
      },
      "outputs": [],
      "source": [
        "# Configuraciones para las librerías y módulos usados\n",
        "\n",
        "# Ignoramos las advertencias o warnings.\n",
        "import warnings\n",
        "warnings.simplefilter(action='ignore')\n",
        "\n",
        "# Configuramos el formato por defecto de la\n",
        "# librería de visualización Matplotlib.\n",
        "%matplotlib inline\n",
        "%config InlineBackend.figure_format = 'retina'"
      ]
    },
    {
      "cell_type": "code",
      "execution_count": 7,
      "metadata": {
        "colab": {
          "base_uri": "https://localhost:8080/"
        },
        "id": "wDcrN6eP_Mcy",
        "outputId": "0e2943e0-8485-4d78-fb6e-1dd6467e4b50"
      },
      "outputs": [
        {
          "output_type": "stream",
          "name": "stdout",
          "text": [
            "Python 3.10.12\n",
            "Scikit-learn 1.2.2\n",
            "NumPy 1.23.5\n",
            "Pandas 1.5.3\n",
            "Matplotlib 3.7.1\n",
            "Seaborn 0.12.2\n"
          ]
        }
      ],
      "source": [
        "# Versión de Python y las demás librerías.\n",
        "!python --version\n",
        "print('Scikit-learn', sklearn.__version__)\n",
        "print('NumPy', np.__version__)\n",
        "print('Pandas', pd.__version__)\n",
        "print('Matplotlib', mpl.__version__)\n",
        "print('Seaborn', sns.__version__)"
      ]
    },
    {
      "cell_type": "code",
      "execution_count": 8,
      "metadata": {
        "id": "ebFJiMYN_yaN"
      },
      "outputs": [],
      "source": [
        "# Carga del DataFrame.\n",
        "X_train = pd.read_csv('/content/drive/MyDrive/Colab Notebooks/X_train.csv') # genera data frame de pandas\n",
        "X_train = X_train.values # genera objeto de numpy\n",
        "X_test = pd.read_csv('/content/drive/MyDrive/Colab Notebooks/X_test.csv')\n",
        "X_test = X_test.values\n",
        "y_train = pd.read_csv('/content/drive/MyDrive/Colab Notebooks/y_train.csv')\n",
        "y_train = y_train.values\n",
        "y_train = y_train.reshape(8400,)\n",
        "y_test = pd.read_csv('/content/drive/MyDrive/Colab Notebooks/y_test.csv')\n",
        "y_test = y_test.values\n",
        "y_test = y_test.reshape(3600,)"
      ]
    },
    {
      "cell_type": "code",
      "execution_count": 9,
      "metadata": {
        "colab": {
          "base_uri": "https://localhost:8080/"
        },
        "id": "octQ1I0E27mZ",
        "outputId": "9246d57e-26af-4859-e6e9-9a49992530f1"
      },
      "outputs": [
        {
          "output_type": "execute_result",
          "data": {
            "text/plain": [
              "(8400, 200)"
            ]
          },
          "metadata": {},
          "execution_count": 9
        }
      ],
      "source": [
        "X_train.shape"
      ]
    },
    {
      "cell_type": "code",
      "execution_count": 10,
      "metadata": {
        "colab": {
          "base_uri": "https://localhost:8080/"
        },
        "id": "3hyio0ZE3d6A",
        "outputId": "d23266fc-c36c-4c6a-ec22-88db59f95c18"
      },
      "outputs": [
        {
          "output_type": "execute_result",
          "data": {
            "text/plain": [
              "(3600, 200)"
            ]
          },
          "metadata": {},
          "execution_count": 10
        }
      ],
      "source": [
        "X_test.shape"
      ]
    },
    {
      "cell_type": "code",
      "execution_count": 11,
      "metadata": {
        "colab": {
          "base_uri": "https://localhost:8080/"
        },
        "id": "R9ABf7Uo3iiv",
        "outputId": "6d9a9901-8927-4c0c-fee8-4cbf6d7f0cca"
      },
      "outputs": [
        {
          "output_type": "execute_result",
          "data": {
            "text/plain": [
              "(8400,)"
            ]
          },
          "metadata": {},
          "execution_count": 11
        }
      ],
      "source": [
        "y_train.shape"
      ]
    },
    {
      "cell_type": "code",
      "execution_count": 12,
      "metadata": {
        "colab": {
          "base_uri": "https://localhost:8080/"
        },
        "id": "1FyK_hdz3pTf",
        "outputId": "c960e3d9-44db-4058-fdb4-22c101a4df4c"
      },
      "outputs": [
        {
          "output_type": "execute_result",
          "data": {
            "text/plain": [
              "(3600,)"
            ]
          },
          "metadata": {},
          "execution_count": 12
        }
      ],
      "source": [
        "y_test.shape"
      ]
    },
    {
      "cell_type": "markdown",
      "metadata": {
        "id": "GFN5ihnODrs-"
      },
      "source": [
        "A continuación se muestran como ejemplo una curva de cada una de las categorías, donde se puede ver que por pura inspección visual es dificil distinguir las diferencias debido al importante nivel de traslape."
      ]
    },
    {
      "cell_type": "code",
      "execution_count": null,
      "metadata": {
        "colab": {
          "base_uri": "https://localhost:8080/",
          "height": 448
        },
        "id": "Wemf_jKL-wuu",
        "outputId": "49a1fa81-44af-4304-ca9e-f15ba852dad9"
      },
      "outputs": [
        {
          "data": {
            "text/plain": [
              "<matplotlib.legend.Legend at 0x7cf2176a8760>"
            ]
          },
          "execution_count": 9,
          "metadata": {},
          "output_type": "execute_result"
        },
        {
          "data": {
            "image/png": "[encoded data removed]",
            "text/plain": [
              "<Figure size 640x480 with 1 Axes>"
            ]
          },
          "metadata": {
            "image/png": {
              "height": 413,
              "width": 547
            }
          },
          "output_type": "display_data"
        }
      ],
      "source": [
        "import pylab as pl\n",
        "\n",
        "x = np.arange(1,201,1)\n",
        "y1 = X_train[1400,]\n",
        "y2 = X_train[4200,]\n",
        "y3 = X_train[7000,]\n",
        "pl.ylim(0,1.1)\n",
        "pl.plot(x,y1, color=\"blue\", label=\"Dúctil\")\n",
        "pl.plot(x,y2, color=\"red\", label=\"Frágil\")\n",
        "pl.plot(x,y3, color=\"green\", label=\"Fatiga\")\n",
        "\n",
        "pl.legend(loc=\"upper left\")\n"
      ]
    },
    {
      "cell_type": "markdown",
      "metadata": {
        "id": "gfenIohz5WNh"
      },
      "source": [
        "## **3. Clasificación con Arbol de Decisión**\n",
        "\n",
        "A continuación se procede a entrenar el modelo y encontrar hiperparámetros óptimos.\n"
      ]
    },
    {
      "cell_type": "code",
      "execution_count": null,
      "metadata": {
        "id": "MCCT3KuUPXA9"
      },
      "outputs": [],
      "source": [
        "# Función para entregar gsearch del Arbol de Decisión.\n",
        "from sklearn import model_selection\n",
        "from sklearn import tree\n",
        "\n",
        "def tree_grid_search(X_train, y_train, param_grid, k, seed = 333):\n",
        "  \"\"\"\n",
        "  Entradas:\n",
        "    X_train: Arreglo de NumPy con shape (n, m),\n",
        "    y_train: Arreglo de NumPy con shape (n,).\n",
        "    param_grid: Hiperparámetros a explorar.\n",
        "    k: Número de pliegues de validación cruzada\n",
        "    seed: semilla aleatoria para la creación de la partición.\n",
        "  Retorna:\n",
        "    gsearch: GridSearchCV entrenado con X_train y y_train.\n",
        "  \"\"\"\n",
        "\n",
        "  from sklearn.tree import DecisionTreeClassifier\n",
        "  tree_clf = DecisionTreeClassifier(random_state=seed)\n",
        "\n",
        "  # Declarar y entrenar el objeto GridSearchCV.\n",
        "  from sklearn.model_selection import GridSearchCV\n",
        "  gsearch = GridSearchCV(tree_clf,\n",
        "                   cv=k,\n",
        "                   param_grid=param_grid,\n",
        "                   return_train_score=True\n",
        "                    )\n",
        "  gsearch.fit(X_train, y_train)\n",
        "\n",
        "  return gsearch"
      ]
    },
    {
      "cell_type": "code",
      "execution_count": null,
      "metadata": {
        "colab": {
          "base_uri": "https://localhost:8080/"
        },
        "id": "VoPTebqKEXi3",
        "outputId": "0df472cd-abe8-4ab1-a054-77ef0ca85d09"
      },
      "outputs": [
        {
          "name": "stdout",
          "output_type": "stream",
          "text": [
            "Mejores hiperparámetros:\n",
            " {'criterion': 'gini', 'max_depth': 25}\n",
            "Mejor exactitud (validación): 0.578690\n"
          ]
        }
      ],
      "source": [
        "# Mejores Hiperparámetros Obtenidos del árbol de decisión\n",
        "# Corre en 2 min en colab\n",
        "param_grid = {\n",
        "    \"max_depth\": range(5, 60, 5),     # Profundidad máxima del árbol de decisión.\n",
        "    \"criterion\": [\"gini\", \"entropy\"], # Criterio de partición del árbol de decisión.\n",
        "  }\n",
        "gsearch = tree_grid_search(X_train, y_train, param_grid, k=3)\n",
        "print(f'Mejores hiperparámetros:\\n {gsearch.best_params_}')\n",
        "print(f'Mejor exactitud (validación): {gsearch.best_score_:.6f}')"
      ]
    },
    {
      "cell_type": "code",
      "execution_count": null,
      "metadata": {
        "id": "RvICu6hOPYTM"
      },
      "outputs": [],
      "source": [
        "# Función de Métricas de Desempeño para el Arbol de Decisión\n",
        "\n",
        "from sklearn import metrics\n",
        "from scipy.stats.contingency import crosstab\n",
        "\n",
        "def tree_performance_metrics(gsearch, X_test, y_test):\n",
        "  \"\"\"\n",
        "  Entradas:\n",
        "    gsearch: Modelo entrenado con GridSearchCV\n",
        "    X_digits_test: Arreglo de numpy con shape (n, m)\n",
        "    y_digits_test: Arreglo de numpy con shape (n,)\n",
        "  Retorna:\n",
        "    accuracy: exactitud en prueba.\n",
        "    precision_macro: precisión macro en prueba.\n",
        "    recall_macro: recall macro en prueba.\n",
        "    f1_macro: f1 score macro en prueba.\n",
        "  \"\"\"\n",
        "\n",
        "  from sklearn.metrics import accuracy_score, precision_score, recall_score, f1_score\n",
        "  y_pred = gsearch.predict(X_test)\n",
        "  accuracy = accuracy_score(y_test, y_pred)\n",
        "  precision_macro = precision_score(y_test, y_pred, average=\"macro\")\n",
        "  recall_macro = recall_score(y_test, y_pred, average=\"macro\")\n",
        "  f1_macro = f1_score(y_test, y_pred, average=\"macro\")\n",
        "  options = [1, 2, 3]\n",
        "  ctable = crosstab(y_test, y_pred, levels=(options, options))\n",
        "  ctableductil1 = crosstab(y_test[0:400,], y_pred[0:400,], levels=(options, options))\n",
        "  ctableductil2 = crosstab(y_test[400:800,], y_pred[400:800,], levels=(options, options))\n",
        "  ctableductil3 = crosstab(y_test[800:1200,], y_pred[800:1200,], levels=(options, options))\n",
        "  ctablefragil1 = crosstab(y_test[1200:1600,], y_pred[1200:1600,], levels=(options, options))\n",
        "  ctablefragil2 = crosstab(y_test[1600:2000,], y_pred[1600:2000,], levels=(options, options))\n",
        "  ctablefragil3 = crosstab(y_test[2000:2400,], y_pred[2000:2400,], levels=(options, options))\n",
        "  ctablefatiga1 = crosstab(y_test[2400:2800,], y_pred[2400:2800,], levels=(options, options))\n",
        "  ctablefatiga2 = crosstab(y_test[2800:3200,], y_pred[2800:3200,], levels=(options, options))\n",
        "  ctablefatiga3 = crosstab(y_test[3200:3600,], y_pred[3200:3600,], levels=(options, options))\n",
        "\n",
        "  return accuracy, precision_macro, recall_macro, f1_macro, ctable.count, ctableductil1.count, ctableductil2.count, ctableductil3.count, ctablefragil1.count, ctablefragil2.count, ctablefragil3.count, ctablefatiga1.count, ctablefatiga2.count, ctablefatiga3.count"
      ]
    },
    {
      "cell_type": "code",
      "execution_count": null,
      "metadata": {
        "colab": {
          "base_uri": "https://localhost:8080/"
        },
        "id": "N_Vknag59uaA",
        "outputId": "8d6055c8-a7bb-4d37-a351-18fb82fc55f7"
      },
      "outputs": [
        {
          "name": "stdout",
          "output_type": "stream",
          "text": [
            "Exactitud en prueba: 0.626944\n",
            "Precisión macro en prueba: 0.631875\n",
            "Recall macro en prueba: 0.626944\n",
            "F1 macro en prueba: 0.627047\n"
          ]
        }
      ],
      "source": [
        "# Métrica de desempeño del Arbol de Decisión 1\n",
        "\n",
        "acc, prec, rec, f1, ctable, ctableductil1, ctableductil2, ctableductil3, ctablefragil1, ctablefragil2, ctablefragil3, ctablefatiga1, ctablefatiga2, ctablefatiga3 = tree_performance_metrics(gsearch, X_test, y_test)\n",
        "print(f'Exactitud en prueba: {acc:.6f}')\n",
        "print(f'Precisión macro en prueba: {prec:.6f}')\n",
        "print(f'Recall macro en prueba: {rec:.6f}')\n",
        "print(f'F1 macro en prueba: {f1:.6f}')"
      ]
    },
    {
      "cell_type": "code",
      "execution_count": null,
      "metadata": {
        "colab": {
          "base_uri": "https://localhost:8080/"
        },
        "id": "2__f4JLasqkQ",
        "outputId": "5cc6b1a2-0e23-4955-948b-56ebaf79610b"
      },
      "outputs": [
        {
          "name": "stdout",
          "output_type": "stream",
          "text": [
            "General por curvas\n",
            "[[699 153 348]\n",
            " [204 744 252]\n",
            " [166 220 814]]\n",
            "0.6269444444444444\n",
            "0.5825\n",
            "0.62\n",
            "0.6783333333333333\n"
          ]
        }
      ],
      "source": [
        "# Métrica de desempeño del Arbol de Decisión 2\n",
        "\n",
        "print(\"General por curvas\")\n",
        "print(ctable)\n",
        "print((ctable[0,0]+ctable[1,1]+ctable[2,2])/3600)\n",
        "print(ctable[0,0]/1200)\n",
        "print(ctable[1,1]/1200)\n",
        "print(ctable[2,2]/1200)\n",
        "\n",
        "\n"
      ]
    },
    {
      "cell_type": "code",
      "execution_count": null,
      "metadata": {
        "colab": {
          "base_uri": "https://localhost:8080/"
        },
        "id": "fwpzI70pzBjj",
        "outputId": "25fb7184-0c62-4c50-a201-691f21a0d00c"
      },
      "outputs": [
        {
          "name": "stdout",
          "output_type": "stream",
          "text": [
            "Por fotos dúctiles\n",
            "[[303  23  74]\n",
            " [  0   0   0]\n",
            " [  0   0   0]]\n",
            "[[208  55 137]\n",
            " [  0   0   0]\n",
            " [  0   0   0]]\n",
            "[[188  75 137]\n",
            " [  0   0   0]\n",
            " [  0   0   0]]\n"
          ]
        }
      ],
      "source": [
        "# Métrica de desempeño del Arbol de Decisión 3\n",
        "print(\"Por fotos dúctiles\")\n",
        "print(ctableductil1)\n",
        "print(ctableductil2)\n",
        "print(ctableductil3)"
      ]
    },
    {
      "cell_type": "code",
      "execution_count": null,
      "metadata": {
        "colab": {
          "base_uri": "https://localhost:8080/"
        },
        "id": "_lDvNDJq1SDv",
        "outputId": "44a4abc7-f79c-4356-c084-176b77f0b6ba"
      },
      "outputs": [
        {
          "name": "stdout",
          "output_type": "stream",
          "text": [
            "Por fotos frágiles\n",
            "[[  0   0   0]\n",
            " [ 81 231  88]\n",
            " [  0   0   0]]\n",
            "[[  0   0   0]\n",
            " [ 41 296  63]\n",
            " [  0   0   0]]\n",
            "[[  0   0   0]\n",
            " [ 82 217 101]\n",
            " [  0   0   0]]\n"
          ]
        }
      ],
      "source": [
        "print(\"Por fotos frágiles\")\n",
        "print(ctablefragil1)\n",
        "print(ctablefragil2)\n",
        "print(ctablefragil3)"
      ]
    },
    {
      "cell_type": "code",
      "execution_count": null,
      "metadata": {
        "colab": {
          "base_uri": "https://localhost:8080/"
        },
        "id": "Hefj_2BD1dmC",
        "outputId": "f390291d-b431-4cfa-f8ec-33a640b9d267"
      },
      "outputs": [
        {
          "name": "stdout",
          "output_type": "stream",
          "text": [
            "Por fotos fatiga\n",
            "[[  0   0   0]\n",
            " [  0   0   0]\n",
            " [ 52  53 295]]\n",
            "[[  0   0   0]\n",
            " [  0   0   0]\n",
            " [ 92  95 213]]\n",
            "[[  0   0   0]\n",
            " [  0   0   0]\n",
            " [ 22  72 306]]\n"
          ]
        }
      ],
      "source": [
        "print(\"Por fotos fatiga\")\n",
        "print(ctablefatiga1)\n",
        "print(ctablefatiga2)\n",
        "print(ctablefatiga3)"
      ]
    },
    {
      "cell_type": "markdown",
      "metadata": {
        "id": "u7bVMpV2wJYT"
      },
      "source": [
        "## **4. Clasificación con Random Forest**\n",
        "\n",
        "A continuación se procede a entrenar el modelo y encontrar hiperparámetros óptimos."
      ]
    },
    {
      "cell_type": "code",
      "execution_count": null,
      "metadata": {
        "id": "OOKiGMjQwJYl"
      },
      "outputs": [],
      "source": [
        "# Función para entregar gsearch del Random Forest.\n",
        "from sklearn import model_selection\n",
        "\n",
        "def RandomForest_grid_search(X_train, y_train, param_grid, k, seed = 333):\n",
        "  \"\"\"\n",
        "  Entradas:\n",
        "    X_train: Arreglo de NumPy con shape (n, m),\n",
        "    y_train: Arreglo de NumPy con shape (n,).\n",
        "    param_grid: Hiperparámetros a explorar.\n",
        "    k: Número de pliegues de validación cruzada\n",
        "    seed: semilla aleatoria para la creación de la partición.\n",
        "  Retorna:\n",
        "    gsearch: GridSearchCV entrenado con X_train y y_train.\n",
        "  \"\"\"\n",
        "\n",
        "  from sklearn.ensemble import RandomForestClassifier\n",
        "  RandomForest_clf = RandomForestClassifier(random_state=seed)\n",
        "\n",
        "  # Declarar y entrenar el objeto GridSearchCV.\n",
        "  from sklearn.model_selection import GridSearchCV\n",
        "  gsearch = GridSearchCV(RandomForest_clf,\n",
        "                   cv=k,\n",
        "                   param_grid=param_grid,\n",
        "                   return_train_score=True\n",
        "                    )\n",
        "  gsearch.fit(X_train, y_train)\n",
        "\n",
        "  return gsearch"
      ]
    },
    {
      "cell_type": "code",
      "execution_count": null,
      "metadata": {
        "colab": {
          "base_uri": "https://localhost:8080/"
        },
        "id": "WilOd0GEwJYn",
        "outputId": "d09831dc-354d-41a1-f913-7b1cfebb535b"
      },
      "outputs": [
        {
          "name": "stdout",
          "output_type": "stream",
          "text": [
            "Mejores hiperparámetros:\n",
            " {'max_features': 0.04, 'n_estimators': 200}\n",
            "Mejor exactitud (validación): 0.763452\n"
          ]
        }
      ],
      "source": [
        "# Mejores Hiperparámetros Obtenidos del Random Forest\n",
        "# Primero se corrio max features [0.1, 0.3, 0.5, 0.7, 0.9] con 50 arboles y arrojo mejor 0.1, 10 min corriendo en colab\n",
        "# Se corrio max features [0.04, 0.06, 0.08, 0.1, 1.2] con 50 arboles y arrojo mejor 0.04, 1 min corriendo en colab\n",
        "# Se corrio max features [[0.01, 0.02, 0.03, 0.04, 0.05] con 50 arboles y arrojo mejor 0.04, 45 seg corriendo en colab\n",
        "# n estimators [25, 50, 100] con 0.04 max features y arrojo mejor 100, 45 seg corriendo en colab\n",
        "# n estimators [50, 100, 150] con 0.04 max features y arrojo mejor 150, 1 min corriendo en colab\n",
        "# n estimators [100, 150, 200, 250] con 0.04 max features y arrojo mejor 200, 2 min corriendo en colab\n",
        "# Corre en 6 m in en colab\n",
        "\n",
        "param_grid = {\n",
        "    \"n_estimators\": [150, 200, 250],     # Número de árboles del Random Forest.\n",
        "    \"max_features\": [0.02, 0.04, 0.06],    # Porcentaje de características del Random Forest.\n",
        "  }\n",
        "gsearch = RandomForest_grid_search(X_train, y_train, param_grid, k=3)\n",
        "print(f'Mejores hiperparámetros:\\n {gsearch.best_params_}')\n",
        "print(f'Mejor exactitud (validación): {gsearch.best_score_:.6f}')"
      ]
    },
    {
      "cell_type": "code",
      "execution_count": null,
      "metadata": {
        "id": "gyiqQ5kawJYo"
      },
      "outputs": [],
      "source": [
        "# Función de Métricas de Desempeño para Random Forest\n",
        "\n",
        "from sklearn import metrics\n",
        "from scipy.stats.contingency import crosstab\n",
        "\n",
        "def RandomForest_performance_metrics(gsearch, X_test, y_test):\n",
        "  \"\"\"\n",
        "  Entradas:\n",
        "    gsearch: Modelo entrenado con GridSearchCV\n",
        "    X_digits_test: Arreglo de numpy con shape (n, m)\n",
        "    y_digits_test: Arreglo de numpy con shape (n,)\n",
        "  Retorna:\n",
        "    accuracy: exactitud en prueba.\n",
        "    precision_macro: precisión macro en prueba.\n",
        "    recall_macro: recall macro en prueba.\n",
        "    f1_macro: f1 score macro en prueba.\n",
        "  \"\"\"\n",
        "\n",
        "  from sklearn.metrics import accuracy_score, precision_score, recall_score, f1_score\n",
        "  y_pred = gsearch.predict(X_test)\n",
        "  accuracy = accuracy_score(y_test, y_pred)\n",
        "  precision_macro = precision_score(y_test, y_pred, average=\"macro\")\n",
        "  recall_macro = recall_score(y_test, y_pred, average=\"macro\")\n",
        "  f1_macro = f1_score(y_test, y_pred, average=\"macro\")\n",
        "  options = [1, 2, 3]\n",
        "  ctable = crosstab(y_test, y_pred, levels=(options, options))\n",
        "  ctableductil1 = crosstab(y_test[0:400,], y_pred[0:400,], levels=(options, options))\n",
        "  ctableductil2 = crosstab(y_test[400:800,], y_pred[400:800,], levels=(options, options))\n",
        "  ctableductil3 = crosstab(y_test[800:1200,], y_pred[800:1200,], levels=(options, options))\n",
        "  ctablefragil1 = crosstab(y_test[1200:1600,], y_pred[1200:1600,], levels=(options, options))\n",
        "  ctablefragil2 = crosstab(y_test[1600:2000,], y_pred[1600:2000,], levels=(options, options))\n",
        "  ctablefragil3 = crosstab(y_test[2000:2400,], y_pred[2000:2400,], levels=(options, options))\n",
        "  ctablefatiga1 = crosstab(y_test[2400:2800,], y_pred[2400:2800,], levels=(options, options))\n",
        "  ctablefatiga2 = crosstab(y_test[2800:3200,], y_pred[2800:3200,], levels=(options, options))\n",
        "  ctablefatiga3 = crosstab(y_test[3200:3600,], y_pred[3200:3600,], levels=(options, options))\n",
        "\n",
        "  return accuracy, precision_macro, recall_macro, f1_macro, ctable.count, ctableductil1.count, ctableductil2.count, ctableductil3.count, ctablefragil1.count, ctablefragil2.count, ctablefragil3.count, ctablefatiga1.count, ctablefatiga2.count, ctablefatiga3.count"
      ]
    },
    {
      "cell_type": "code",
      "execution_count": null,
      "metadata": {
        "colab": {
          "base_uri": "https://localhost:8080/"
        },
        "id": "9ab6BWUgwJYp",
        "outputId": "e8defa18-3255-4c3c-c456-7e10db6a8c7d"
      },
      "outputs": [
        {
          "name": "stdout",
          "output_type": "stream",
          "text": [
            "Exactitud en prueba: 0.885833\n",
            "Precisión macro en prueba: 0.888632\n",
            "Recall macro en prueba: 0.885833\n",
            "F1 macro en prueba: 0.884942\n"
          ]
        }
      ],
      "source": [
        "# Métrica de desempeño para Random Forest 1\n",
        "\n",
        "acc, prec, rec, f1, ctable, ctableductil1, ctableductil2, ctableductil3, ctablefragil1, ctablefragil2, ctablefragil3, ctablefatiga1, ctablefatiga2, ctablefatiga3 = RandomForest_performance_metrics(gsearch, X_test, y_test)\n",
        "print(f'Exactitud en prueba: {acc:.6f}')\n",
        "print(f'Precisión macro en prueba: {prec:.6f}')\n",
        "print(f'Recall macro en prueba: {rec:.6f}')\n",
        "print(f'F1 macro en prueba: {f1:.6f}')"
      ]
    },
    {
      "cell_type": "code",
      "execution_count": null,
      "metadata": {
        "colab": {
          "base_uri": "https://localhost:8080/"
        },
        "id": "0oNDm3Unfo-y",
        "outputId": "10c95ed5-6aca-4557-88aa-18c79a3b2748"
      },
      "outputs": [
        {
          "name": "stdout",
          "output_type": "stream",
          "text": [
            "General por curvas\n",
            "[[ 953   41  206]\n",
            " [  12 1165   23]\n",
            " [  68   61 1071]]\n",
            "0.8858333333333334\n",
            "0.7941666666666667\n",
            "0.9708333333333333\n",
            "0.8925\n"
          ]
        }
      ],
      "source": [
        "# Métrica de desempeño del Random Forest 2\n",
        "\n",
        "print(\"General por curvas\")\n",
        "print(ctable)\n",
        "print((ctable[0,0]+ctable[1,1]+ctable[2,2])/3600)\n",
        "print(ctable[0,0]/1200)\n",
        "print(ctable[1,1]/1200)\n",
        "print(ctable[2,2]/1200)\n",
        "\n",
        "\n"
      ]
    },
    {
      "cell_type": "code",
      "execution_count": null,
      "metadata": {
        "colab": {
          "base_uri": "https://localhost:8080/"
        },
        "id": "CVVZDR8jfo-2",
        "outputId": "35ea10a3-f4fb-472a-b4a8-0169a5bd73ff"
      },
      "outputs": [
        {
          "name": "stdout",
          "output_type": "stream",
          "text": [
            "Por fotos dúctiles\n",
            "[[395   1   4]\n",
            " [  0   0   0]\n",
            " [  0   0   0]]\n",
            "[[284   2 114]\n",
            " [  0   0   0]\n",
            " [  0   0   0]]\n",
            "[[274  38  88]\n",
            " [  0   0   0]\n",
            " [  0   0   0]]\n"
          ]
        }
      ],
      "source": [
        "# Métrica de desempeño del Random Forest 3\n",
        "print(\"Por fotos dúctiles\")\n",
        "print(ctableductil1)\n",
        "print(ctableductil2)\n",
        "print(ctableductil3)"
      ]
    },
    {
      "cell_type": "code",
      "execution_count": null,
      "metadata": {
        "colab": {
          "base_uri": "https://localhost:8080/"
        },
        "id": "KvSUv3VAfo-5",
        "outputId": "ad54f2c8-f9b6-4d3b-85b4-cd8af043b2d9"
      },
      "outputs": [
        {
          "name": "stdout",
          "output_type": "stream",
          "text": [
            "Por fotos frágiles\n",
            "[[  0   0   0]\n",
            " [  5 395   0]\n",
            " [  0   0   0]]\n",
            "[[  0   0   0]\n",
            " [  0 400   0]\n",
            " [  0   0   0]]\n",
            "[[  0   0   0]\n",
            " [  7 370  23]\n",
            " [  0   0   0]]\n"
          ]
        }
      ],
      "source": [
        "print(\"Por fotos frágiles\")\n",
        "print(ctablefragil1)\n",
        "print(ctablefragil2)\n",
        "print(ctablefragil3)"
      ]
    },
    {
      "cell_type": "code",
      "execution_count": null,
      "metadata": {
        "colab": {
          "base_uri": "https://localhost:8080/"
        },
        "id": "i62K1aS-fo-8",
        "outputId": "1c814cd9-8b7a-4149-b199-b6528e5271ca"
      },
      "outputs": [
        {
          "name": "stdout",
          "output_type": "stream",
          "text": [
            "Por fotos fatiga\n",
            "[[  0   0   0]\n",
            " [  0   0   0]\n",
            " [ 15  16 369]]\n",
            "[[  0   0   0]\n",
            " [  0   0   0]\n",
            " [ 52  32 316]]\n",
            "[[  0   0   0]\n",
            " [  0   0   0]\n",
            " [  1  13 386]]\n"
          ]
        }
      ],
      "source": [
        "print(\"Por fotos fatiga\")\n",
        "print(ctablefatiga1)\n",
        "print(ctablefatiga2)\n",
        "print(ctablefatiga3)"
      ]
    },
    {
      "cell_type": "markdown",
      "metadata": {
        "id": "o611JvY8zqsA"
      },
      "source": [
        "## **5. Clasificación con SVM y Kernel Gaussiano**\n",
        "\n",
        "A continuación se procede a entrenar el modelo y encontrar hiperparámetros óptimos."
      ]
    },
    {
      "cell_type": "code",
      "execution_count": null,
      "metadata": {
        "id": "rgjCI3_TzqsV"
      },
      "outputs": [],
      "source": [
        "# Función para entregar gsearch de SVM.\n",
        "from sklearn import model_selection\n",
        "\n",
        "def SVM_grid_search(X_train, y_train, param_grid, k, seed = 333):\n",
        "  \"\"\"\n",
        "  Entradas:\n",
        "    X_train: Arreglo de NumPy con shape (n, m),\n",
        "    y_train: Arreglo de NumPy con shape (n,).\n",
        "    param_grid: Hiperparámetros a explorar.\n",
        "    k: Número de pliegues de validación cruzada\n",
        "    seed: semilla aleatoria para la creación de la partición.\n",
        "  Retorna:\n",
        "    gsearch: GridSearchCV entrenado con X_train y y_train.\n",
        "  \"\"\"\n",
        "\n",
        "  from sklearn.svm import SVC\n",
        "  SVM_clf = SVC(kernel='rbf', random_state=seed)\n",
        "\n",
        "  # Declarar y entrenar el objeto GridSearchCV.\n",
        "  from sklearn.model_selection import GridSearchCV\n",
        "  gsearch = GridSearchCV(SVM_clf,\n",
        "                   cv=k,\n",
        "                   param_grid=param_grid,\n",
        "                   return_train_score=True\n",
        "                    )\n",
        "  gsearch.fit(X_train, y_train)\n",
        "\n",
        "  return gsearch"
      ]
    },
    {
      "cell_type": "code",
      "execution_count": null,
      "metadata": {
        "colab": {
          "base_uri": "https://localhost:8080/"
        },
        "id": "BPxUQZkrzqsY",
        "outputId": "171dc06b-2076-4911-b506-630c221e3d7e"
      },
      "outputs": [
        {
          "name": "stdout",
          "output_type": "stream",
          "text": [
            "Mejores hiperparámetros:\n",
            " {'C': 0.0625, 'gamma': 0.5}\n",
            "Mejor exactitud (validación): 0.782857\n"
          ]
        }
      ],
      "source": [
        "# Mejores Hiperparámetros Obtenidos del SVM Gaussiano\n",
        "# Se corrio \"C\": [2**i for i in range(-1, 0, 5)] y \"gamma\": [2**i for i in range(-5, 7, 5)], dio mejo i = -1 para C y para gamma corre en 9 min en colab\n",
        "# Se corrio \"C\": [2**i for i in range(-5, 0, 1)] y \"gamma\": [0.5)], dio mejor i = -4 para C corre en 3 min en colab\n",
        "# Parametros óptimos C 0.0625 y gamma 0.5 corre en 2 min\n",
        "\n",
        "param_grid = {\n",
        "    \"C\": [2**i for i in range(-5, -3, 1)],     # Parámetro de Regularización.\n",
        "    \"gamma\": [2**i for i in range(-2, 0, 1)], # Coeficiente del Kernel.\n",
        "  }\n",
        "gsearch = SVM_grid_search(X_train, y_train, param_grid, k=3)\n",
        "print(f'Mejores hiperparámetros:\\n {gsearch.best_params_}')\n",
        "print(f'Mejor exactitud (validación): {gsearch.best_score_:.6f}')"
      ]
    },
    {
      "cell_type": "code",
      "execution_count": null,
      "metadata": {
        "id": "mFjYO09Uzqsb"
      },
      "outputs": [],
      "source": [
        "# Función de Métricas de Desempeño del SVM Gaussiano\n",
        "\n",
        "from sklearn import metrics\n",
        "from scipy.stats.contingency import crosstab\n",
        "\n",
        "def SVM_performance_metrics(gsearch, X_test, y_test):\n",
        "  \"\"\"\n",
        "  Entradas:\n",
        "    gsearch: Modelo entrenado con GridSearchCV\n",
        "    X_digits_test: Arreglo de numpy con shape (n, m)\n",
        "    y_digits_test: Arreglo de numpy con shape (n,)\n",
        "  Retorna:\n",
        "    accuracy: exactitud en prueba.\n",
        "    precision_macro: precisión macro en prueba.\n",
        "    recall_macro: recall macro en prueba.\n",
        "    f1_macro: f1 score macro en prueba.\n",
        "  \"\"\"\n",
        "\n",
        "  from sklearn.metrics import accuracy_score, precision_score, recall_score, f1_score\n",
        "  y_pred = gsearch.predict(X_test)\n",
        "  accuracy = accuracy_score(y_test, y_pred)\n",
        "  precision_macro = precision_score(y_test, y_pred, average=\"macro\")\n",
        "  recall_macro = recall_score(y_test, y_pred, average=\"macro\")\n",
        "  f1_macro = f1_score(y_test, y_pred, average=\"macro\")\n",
        "  options = [1, 2, 3]\n",
        "  ctable = crosstab(y_test, y_pred, levels=(options, options))\n",
        "  ctableductil1 = crosstab(y_test[0:400,], y_pred[0:400,], levels=(options, options))\n",
        "  ctableductil2 = crosstab(y_test[400:800,], y_pred[400:800,], levels=(options, options))\n",
        "  ctableductil3 = crosstab(y_test[800:1200,], y_pred[800:1200,], levels=(options, options))\n",
        "  ctablefragil1 = crosstab(y_test[1200:1600,], y_pred[1200:1600,], levels=(options, options))\n",
        "  ctablefragil2 = crosstab(y_test[1600:2000,], y_pred[1600:2000,], levels=(options, options))\n",
        "  ctablefragil3 = crosstab(y_test[2000:2400,], y_pred[2000:2400,], levels=(options, options))\n",
        "  ctablefatiga1 = crosstab(y_test[2400:2800,], y_pred[2400:2800,], levels=(options, options))\n",
        "  ctablefatiga2 = crosstab(y_test[2800:3200,], y_pred[2800:3200,], levels=(options, options))\n",
        "  ctablefatiga3 = crosstab(y_test[3200:3600,], y_pred[3200:3600,], levels=(options, options))\n",
        "\n",
        "  return accuracy, precision_macro, recall_macro, f1_macro, ctable.count, ctableductil1.count, ctableductil2.count, ctableductil3.count, ctablefragil1.count, ctablefragil2.count, ctablefragil3.count, ctablefatiga1.count, ctablefatiga2.count, ctablefatiga3.count"
      ]
    },
    {
      "cell_type": "code",
      "execution_count": null,
      "metadata": {
        "colab": {
          "base_uri": "https://localhost:8080/"
        },
        "id": "Kyjj4PFSzqsd",
        "outputId": "10e9e612-c450-4d90-946d-f5836aebd9dc"
      },
      "outputs": [
        {
          "name": "stdout",
          "output_type": "stream",
          "text": [
            "Exactitud en prueba: 0.868611\n",
            "Precisión macro en prueba: 0.881502\n",
            "Recall macro en prueba: 0.868611\n",
            "F1 macro en prueba: 0.863208\n"
          ]
        }
      ],
      "source": [
        "# Métrica de desempeño del SVM Gaussiano 1\n",
        "\n",
        "acc, prec, rec, f1, ctable, ctableductil1, ctableductil2, ctableductil3, ctablefragil1, ctablefragil2, ctablefragil3, ctablefatiga1, ctablefatiga2, ctablefatiga3 = SVM_performance_metrics(gsearch, X_test, y_test)\n",
        "print(f'Exactitud en prueba: {acc:.6f}')\n",
        "print(f'Precisión macro en prueba: {prec:.6f}')\n",
        "print(f'Recall macro en prueba: {rec:.6f}')\n",
        "print(f'F1 macro en prueba: {f1:.6f}')"
      ]
    },
    {
      "cell_type": "code",
      "execution_count": null,
      "metadata": {
        "colab": {
          "base_uri": "https://localhost:8080/"
        },
        "id": "HFFXrWaAt0Zl",
        "outputId": "2d489904-5f96-4f6e-997e-c67e2c482b8b"
      },
      "outputs": [
        {
          "name": "stdout",
          "output_type": "stream",
          "text": [
            "General por curvas\n",
            "[[ 800  143  257]\n",
            " [   5 1164   31]\n",
            " [  32    5 1163]]\n",
            "0.8686111111111111\n",
            "0.6666666666666666\n",
            "0.97\n",
            "0.9691666666666666\n"
          ]
        }
      ],
      "source": [
        "# Métrica de desempeño del SVM Gaussiano 2\n",
        "\n",
        "print(\"General por curvas\")\n",
        "print(ctable)\n",
        "print((ctable[0,0]+ctable[1,1]+ctable[2,2])/3600)\n",
        "print(ctable[0,0]/1200)\n",
        "print(ctable[1,1]/1200)\n",
        "print(ctable[2,2]/1200)\n",
        "\n",
        "\n"
      ]
    },
    {
      "cell_type": "code",
      "execution_count": null,
      "metadata": {
        "colab": {
          "base_uri": "https://localhost:8080/"
        },
        "id": "Ujhd3YgDt0Zq",
        "outputId": "9d070f2c-6a00-4db7-d297-730c7efe0ed5"
      },
      "outputs": [
        {
          "name": "stdout",
          "output_type": "stream",
          "text": [
            "Por fotos dúctiles\n",
            "[[269 119  12]\n",
            " [  0   0   0]\n",
            " [  0   0   0]]\n",
            "[[232   7 161]\n",
            " [  0   0   0]\n",
            " [  0   0   0]]\n",
            "[[299  17  84]\n",
            " [  0   0   0]\n",
            " [  0   0   0]]\n"
          ]
        }
      ],
      "source": [
        "# Métrica de desempeño del SVM Gaussiano 3\n",
        "print(\"Por fotos dúctiles\")\n",
        "print(ctableductil1)\n",
        "print(ctableductil2)\n",
        "print(ctableductil3)"
      ]
    },
    {
      "cell_type": "code",
      "execution_count": null,
      "metadata": {
        "colab": {
          "base_uri": "https://localhost:8080/"
        },
        "id": "l_2QrcTit0Zu",
        "outputId": "0e455bf8-c2e6-4265-c153-4191c4d70052"
      },
      "outputs": [
        {
          "name": "stdout",
          "output_type": "stream",
          "text": [
            "Por fotos frágiles\n",
            "[[  0   0   0]\n",
            " [  1 399   0]\n",
            " [  0   0   0]]\n",
            "[[  0   0   0]\n",
            " [  0 400   0]\n",
            " [  0   0   0]]\n",
            "[[  0   0   0]\n",
            " [  4 365  31]\n",
            " [  0   0   0]]\n"
          ]
        }
      ],
      "source": [
        "print(\"Por fotos frágiles\")\n",
        "print(ctablefragil1)\n",
        "print(ctablefragil2)\n",
        "print(ctablefragil3)"
      ]
    },
    {
      "cell_type": "code",
      "execution_count": null,
      "metadata": {
        "colab": {
          "base_uri": "https://localhost:8080/"
        },
        "id": "esH22e2xt0Zx",
        "outputId": "77e238e2-cf1f-4b10-c54c-c118809320db"
      },
      "outputs": [
        {
          "name": "stdout",
          "output_type": "stream",
          "text": [
            "Por fotos fatiga\n",
            "[[  0   0   0]\n",
            " [  0   0   0]\n",
            " [ 14   1 385]]\n",
            "[[  0   0   0]\n",
            " [  0   0   0]\n",
            " [ 18   4 378]]\n",
            "[[  0   0   0]\n",
            " [  0   0   0]\n",
            " [  0   0 400]]\n"
          ]
        }
      ],
      "source": [
        "print(\"Por fotos fatiga\")\n",
        "print(ctablefatiga1)\n",
        "print(ctablefatiga2)\n",
        "print(ctablefatiga3)"
      ]
    },
    {
      "cell_type": "markdown",
      "metadata": {
        "id": "4iB-fpcG6CO6"
      },
      "source": [
        "## **6. Clasificación con SVM y Kernel Poly**\n",
        "\n",
        "A continuación se procede a entrenar el modelo y encontrar hiperparámetros óptimos."
      ]
    },
    {
      "cell_type": "code",
      "execution_count": null,
      "metadata": {
        "id": "FCS3bOLx55_L"
      },
      "outputs": [],
      "source": [
        "# Función para entregar gsearch de SVM.\n",
        "from sklearn import model_selection\n",
        "\n",
        "def SVM_grid_search(X_train, y_train, param_grid, k, seed = 333):\n",
        "  \"\"\"\n",
        "  Entradas:\n",
        "    X_train: Arreglo de NumPy con shape (n, m),\n",
        "    y_train: Arreglo de NumPy con shape (n,).\n",
        "    param_grid: Hiperparámetros a explorar.\n",
        "    k: Número de pliegues de validación cruzada\n",
        "    seed: semilla aleatoria para la creación de la partición.\n",
        "  Retorna:\n",
        "    gsearch: GridSearchCV entrenado con X_train y y_train.\n",
        "  \"\"\"\n",
        "\n",
        "  from sklearn.svm import SVC\n",
        "  SVM_clf = SVC(kernel='poly', random_state=seed)\n",
        "\n",
        "  # Declarar y entrenar el objeto GridSearchCV.\n",
        "  from sklearn.model_selection import GridSearchCV\n",
        "  gsearch = GridSearchCV(SVM_clf,\n",
        "                   cv=k,\n",
        "                   param_grid=param_grid,\n",
        "                   return_train_score=True\n",
        "                    )\n",
        "  gsearch.fit(X_train, y_train)\n",
        "\n",
        "  return gsearch"
      ]
    },
    {
      "cell_type": "code",
      "execution_count": null,
      "metadata": {
        "colab": {
          "base_uri": "https://localhost:8080/"
        },
        "id": "FUB4RnCn55_a",
        "outputId": "4b77266c-4544-4b1a-933b-283361f5f18f"
      },
      "outputs": [
        {
          "name": "stdout",
          "output_type": "stream",
          "text": [
            "Mejores hiperparámetros:\n",
            " {'C': 0.0625, 'gamma': 0.5}\n",
            "Mejor exactitud (validación): 0.732976\n"
          ]
        }
      ],
      "source": [
        "# Mejores Hiperparámetros Obtenidos del SVM Poly\n",
        "param_grid = {\n",
        "    \"C\": [2**i for i in range(-5, -3, 1)],     # Parámetro de Regularización.\n",
        "    \"gamma\": [2**i for i in range(-2, 0, 1)], # Coeficiente del Kernel.\n",
        "  }\n",
        "gsearch = SVM_grid_search(X_train, y_train, param_grid, k=3)\n",
        "print(f'Mejores hiperparámetros:\\n {gsearch.best_params_}')\n",
        "print(f'Mejor exactitud (validación): {gsearch.best_score_:.6f}')"
      ]
    },
    {
      "cell_type": "code",
      "execution_count": null,
      "metadata": {
        "id": "cNpiAgaT55_e"
      },
      "outputs": [],
      "source": [
        "# Función de Métricas de Desempeño del SVM Poly\n",
        "\n",
        "from sklearn import metrics\n",
        "from scipy.stats.contingency import crosstab\n",
        "\n",
        "def SVM_performance_metrics(gsearch, X_test, y_test):\n",
        "  \"\"\"\n",
        "  Entradas:\n",
        "    gsearch: Modelo entrenado con GridSearchCV\n",
        "    X_digits_test: Arreglo de numpy con shape (n, m)\n",
        "    y_digits_test: Arreglo de numpy con shape (n,)\n",
        "  Retorna:\n",
        "    accuracy: exactitud en prueba.\n",
        "    precision_macro: precisión macro en prueba.\n",
        "    recall_macro: recall macro en prueba.\n",
        "    f1_macro: f1 score macro en prueba.\n",
        "  \"\"\"\n",
        "\n",
        "  from sklearn.metrics import accuracy_score, precision_score, recall_score, f1_score\n",
        "  y_pred = gsearch.predict(X_test)\n",
        "  accuracy = accuracy_score(y_test, y_pred)\n",
        "  precision_macro = precision_score(y_test, y_pred, average=\"macro\")\n",
        "  recall_macro = recall_score(y_test, y_pred, average=\"macro\")\n",
        "  f1_macro = f1_score(y_test, y_pred, average=\"macro\")\n",
        "  options = [1, 2, 3]\n",
        "  ctable = crosstab(y_test, y_pred, levels=(options, options))\n",
        "  ctableductil1 = crosstab(y_test[0:400,], y_pred[0:400,], levels=(options, options))\n",
        "  ctableductil2 = crosstab(y_test[400:800,], y_pred[400:800,], levels=(options, options))\n",
        "  ctableductil3 = crosstab(y_test[800:1200,], y_pred[800:1200,], levels=(options, options))\n",
        "  ctablefragil1 = crosstab(y_test[1200:1600,], y_pred[1200:1600,], levels=(options, options))\n",
        "  ctablefragil2 = crosstab(y_test[1600:2000,], y_pred[1600:2000,], levels=(options, options))\n",
        "  ctablefragil3 = crosstab(y_test[2000:2400,], y_pred[2000:2400,], levels=(options, options))\n",
        "  ctablefatiga1 = crosstab(y_test[2400:2800,], y_pred[2400:2800,], levels=(options, options))\n",
        "  ctablefatiga2 = crosstab(y_test[2800:3200,], y_pred[2800:3200,], levels=(options, options))\n",
        "  ctablefatiga3 = crosstab(y_test[3200:3600,], y_pred[3200:3600,], levels=(options, options))\n",
        "\n",
        "  return accuracy, precision_macro, recall_macro, f1_macro, ctable.count, ctableductil1.count, ctableductil2.count, ctableductil3.count, ctablefragil1.count, ctablefragil2.count, ctablefragil3.count, ctablefatiga1.count, ctablefatiga2.count, ctablefatiga3.count"
      ]
    },
    {
      "cell_type": "code",
      "execution_count": null,
      "metadata": {
        "colab": {
          "base_uri": "https://localhost:8080/"
        },
        "id": "B0LprLxa55_g",
        "outputId": "c92c0351-4f07-44c5-dbc9-aee6c649b815"
      },
      "outputs": [
        {
          "name": "stdout",
          "output_type": "stream",
          "text": [
            "Exactitud en prueba: 0.806111\n",
            "Precisión macro en prueba: 0.822656\n",
            "Recall macro en prueba: 0.806111\n",
            "F1 macro en prueba: 0.806668\n"
          ]
        }
      ],
      "source": [
        "# Métrica de desempeño del SVM Poly 1\n",
        "\n",
        "acc, prec, rec, f1, ctable, ctableductil1, ctableductil2, ctableductil3, ctablefragil1, ctablefragil2, ctablefragil3, ctablefatiga1, ctablefatiga2, ctablefatiga3 = SVM_performance_metrics(gsearch, X_test, y_test)\n",
        "print(f'Exactitud en prueba: {acc:.6f}')\n",
        "print(f'Precisión macro en prueba: {prec:.6f}')\n",
        "print(f'Recall macro en prueba: {rec:.6f}')\n",
        "print(f'F1 macro en prueba: {f1:.6f}')"
      ]
    },
    {
      "cell_type": "code",
      "execution_count": null,
      "metadata": {
        "colab": {
          "base_uri": "https://localhost:8080/"
        },
        "id": "Ap3pNTKlvtr3",
        "outputId": "a62a79a6-2fd8-4776-d92b-779fa40d0d94"
      },
      "outputs": [
        {
          "name": "stdout",
          "output_type": "stream",
          "text": [
            "General por curvas\n",
            "[[ 817   22  361]\n",
            " [ 135  982   83]\n",
            " [  88    9 1103]]\n",
            "0.8061111111111111\n",
            "0.6808333333333333\n",
            "0.8183333333333334\n",
            "0.9191666666666667\n"
          ]
        }
      ],
      "source": [
        "# Métrica de desempeño del SVM Poly 2\n",
        "\n",
        "print(\"General por curvas\")\n",
        "print(ctable)\n",
        "print((ctable[0,0]+ctable[1,1]+ctable[2,2])/3600)\n",
        "print(ctable[0,0]/1200)\n",
        "print(ctable[1,1]/1200)\n",
        "print(ctable[2,2]/1200)\n",
        "\n",
        "\n"
      ]
    },
    {
      "cell_type": "code",
      "execution_count": null,
      "metadata": {
        "colab": {
          "base_uri": "https://localhost:8080/"
        },
        "id": "L_0kiqlcvtr8",
        "outputId": "e9f9fe47-1606-4ce6-c4e3-5895dd614b2b"
      },
      "outputs": [
        {
          "name": "stdout",
          "output_type": "stream",
          "text": [
            "Por fotos dúctiles\n",
            "[[377   7  16]\n",
            " [  0   0   0]\n",
            " [  0   0   0]]\n",
            "[[209   2 189]\n",
            " [  0   0   0]\n",
            " [  0   0   0]]\n",
            "[[231  13 156]\n",
            " [  0   0   0]\n",
            " [  0   0   0]]\n"
          ]
        }
      ],
      "source": [
        "# Métrica de desempeño del SVM Poly 3\n",
        "print(\"Por fotos dúctiles\")\n",
        "print(ctableductil1)\n",
        "print(ctableductil2)\n",
        "print(ctableductil3)"
      ]
    },
    {
      "cell_type": "code",
      "execution_count": null,
      "metadata": {
        "colab": {
          "base_uri": "https://localhost:8080/"
        },
        "id": "Kpn6UzvHvtr_",
        "outputId": "29ad3eb2-589f-4af1-8720-38c493cdd6d8"
      },
      "outputs": [
        {
          "name": "stdout",
          "output_type": "stream",
          "text": [
            "Por fotos frágiles\n",
            "[[  0   0   0]\n",
            " [ 46 342  12]\n",
            " [  0   0   0]]\n",
            "[[  0   0   0]\n",
            " [ 12 380   8]\n",
            " [  0   0   0]]\n",
            "[[  0   0   0]\n",
            " [ 77 260  63]\n",
            " [  0   0   0]]\n"
          ]
        }
      ],
      "source": [
        "print(\"Por fotos frágiles\")\n",
        "print(ctablefragil1)\n",
        "print(ctablefragil2)\n",
        "print(ctablefragil3)"
      ]
    },
    {
      "cell_type": "code",
      "execution_count": null,
      "metadata": {
        "colab": {
          "base_uri": "https://localhost:8080/"
        },
        "id": "7OEX-LDMvtsC",
        "outputId": "a7a8501b-2200-4e1b-c597-c425105f3d48"
      },
      "outputs": [
        {
          "name": "stdout",
          "output_type": "stream",
          "text": [
            "Por fotos fatiga\n",
            "[[  0   0   0]\n",
            " [  0   0   0]\n",
            " [ 18   0 382]]\n",
            "[[  0   0   0]\n",
            " [  0   0   0]\n",
            " [ 69   9 322]]\n",
            "[[  0   0   0]\n",
            " [  0   0   0]\n",
            " [  1   0 399]]\n"
          ]
        }
      ],
      "source": [
        "print(\"Por fotos fatiga\")\n",
        "print(ctablefatiga1)\n",
        "print(ctablefatiga2)\n",
        "print(ctablefatiga3)"
      ]
    },
    {
      "cell_type": "markdown",
      "metadata": {
        "id": "V3auenf79Jmm"
      },
      "source": [
        "## **7. Clasificación con SVM y Kernel Sigmoid**\n",
        "\n",
        "A continuación se procede a entrenar el modelo y encontrar hiperparámetros óptimos."
      ]
    },
    {
      "cell_type": "code",
      "execution_count": null,
      "metadata": {
        "id": "WVOdHXJP9Jmt"
      },
      "outputs": [],
      "source": [
        "# Función para entregar gsearch de SVM.\n",
        "from sklearn import model_selection\n",
        "\n",
        "def SVM_grid_search(X_train, y_train, param_grid, k, seed = 333):\n",
        "  \"\"\"\n",
        "  Entradas:\n",
        "    X_train: Arreglo de NumPy con shape (n, m),\n",
        "    y_train: Arreglo de NumPy con shape (n,).\n",
        "    param_grid: Hiperparámetros a explorar.\n",
        "    k: Número de pliegues de validación cruzada\n",
        "    seed: semilla aleatoria para la creación de la partición.\n",
        "  Retorna:\n",
        "    gsearch: GridSearchCV entrenado con X_train y y_train.\n",
        "  \"\"\"\n",
        "\n",
        "  from sklearn.svm import SVC\n",
        "  SVM_clf = SVC(kernel='sigmoid', random_state=seed)\n",
        "\n",
        "  # Declarar y entrenar el objeto GridSearchCV.\n",
        "  from sklearn.model_selection import GridSearchCV\n",
        "  gsearch = GridSearchCV(SVM_clf,\n",
        "                   cv=k,\n",
        "                   param_grid=param_grid,\n",
        "                   return_train_score=True\n",
        "                    )\n",
        "  gsearch.fit(X_train, y_train)\n",
        "\n",
        "  return gsearch"
      ]
    },
    {
      "cell_type": "code",
      "execution_count": null,
      "metadata": {
        "colab": {
          "base_uri": "https://localhost:8080/"
        },
        "id": "pR03C3HD9Jmu",
        "outputId": "26e5dca2-fdf7-4da0-f31e-2be006235b6e"
      },
      "outputs": [
        {
          "name": "stdout",
          "output_type": "stream",
          "text": [
            "Mejores hiperparámetros:\n",
            " {'C': 9.5367431640625e-07, 'gamma': 0.5}\n",
            "Mejor exactitud (validación): 0.333214\n"
          ]
        }
      ],
      "source": [
        "# Mejores Hiperparámetros Obtenidos del SVM Sigmoid\n",
        "param_grid = {\n",
        "    \"C\": [2**i for i in range(-20, -15, 1)],     # Parámetro de Regularización.\n",
        "    \"gamma\": [2**i for i in range(-2, 0, 1)], # Coeficiente del Kernel.\n",
        "  }\n",
        "gsearch = SVM_grid_search(X_train, y_train, param_grid, k=3)\n",
        "print(f'Mejores hiperparámetros:\\n {gsearch.best_params_}')\n",
        "print(f'Mejor exactitud (validación): {gsearch.best_score_:.6f}')"
      ]
    },
    {
      "cell_type": "code",
      "execution_count": null,
      "metadata": {
        "id": "LkgINHNj9Jmv"
      },
      "outputs": [],
      "source": [
        "# Función de Métricas de Desempeño del SVM Sigmoid\n",
        "\n",
        "from sklearn import metrics\n",
        "from scipy.stats.contingency import crosstab\n",
        "\n",
        "def SVM_performance_metrics(gsearch, X_test, y_test):\n",
        "  \"\"\"\n",
        "  Entradas:\n",
        "    gsearch: Modelo entrenado con GridSearchCV\n",
        "    X_digits_test: Arreglo de numpy con shape (n, m)\n",
        "    y_digits_test: Arreglo de numpy con shape (n,)\n",
        "  Retorna:\n",
        "    accuracy: exactitud en prueba.\n",
        "    precision_macro: precisión macro en prueba.\n",
        "    recall_macro: recall macro en prueba.\n",
        "    f1_macro: f1 score macro en prueba.\n",
        "  \"\"\"\n",
        "\n",
        "  from sklearn.metrics import accuracy_score, precision_score, recall_score, f1_score\n",
        "  y_pred = gsearch.predict(X_test)\n",
        "  accuracy = accuracy_score(y_test, y_pred)\n",
        "  precision_macro = precision_score(y_test, y_pred, average=\"macro\")\n",
        "  recall_macro = recall_score(y_test, y_pred, average=\"macro\")\n",
        "  f1_macro = f1_score(y_test, y_pred, average=\"macro\")\n",
        "  options = [1, 2, 3]\n",
        "  ctable = crosstab(y_test, y_pred, levels=(options, options))\n",
        "  ctableductil1 = crosstab(y_test[0:400,], y_pred[0:400,], levels=(options, options))\n",
        "  ctableductil2 = crosstab(y_test[400:800,], y_pred[400:800,], levels=(options, options))\n",
        "  ctableductil3 = crosstab(y_test[800:1200,], y_pred[800:1200,], levels=(options, options))\n",
        "  ctablefragil1 = crosstab(y_test[1200:1600,], y_pred[1200:1600,], levels=(options, options))\n",
        "  ctablefragil2 = crosstab(y_test[1600:2000,], y_pred[1600:2000,], levels=(options, options))\n",
        "  ctablefragil3 = crosstab(y_test[2000:2400,], y_pred[2000:2400,], levels=(options, options))\n",
        "  ctablefatiga1 = crosstab(y_test[2400:2800,], y_pred[2400:2800,], levels=(options, options))\n",
        "  ctablefatiga2 = crosstab(y_test[2800:3200,], y_pred[2800:3200,], levels=(options, options))\n",
        "  ctablefatiga3 = crosstab(y_test[3200:3600,], y_pred[3200:3600,], levels=(options, options))\n",
        "\n",
        "  return accuracy, precision_macro, recall_macro, f1_macro, ctable.count, ctableductil1.count, ctableductil2.count, ctableductil3.count, ctablefragil1.count, ctablefragil2.count, ctablefragil3.count, ctablefatiga1.count, ctablefatiga2.count, ctablefatiga3.count"
      ]
    },
    {
      "cell_type": "code",
      "execution_count": null,
      "metadata": {
        "colab": {
          "base_uri": "https://localhost:8080/"
        },
        "id": "saERH6nS9Jmv",
        "outputId": "53e53814-ebf5-4f96-8263-a55551ca25ed"
      },
      "outputs": [
        {
          "name": "stdout",
          "output_type": "stream",
          "text": [
            "Exactitud en prueba: 0.333333\n",
            "Precisión macro en prueba: 0.111111\n",
            "Recall macro en prueba: 0.333333\n",
            "F1 macro en prueba: 0.166667\n"
          ]
        }
      ],
      "source": [
        "# Métrica de desempeño del SVM Sigmoid 1\n",
        "\n",
        "acc, prec, rec, f1, ctable, ctableductil1, ctableductil2, ctableductil3, ctablefragil1, ctablefragil2, ctablefragil3, ctablefatiga1, ctablefatiga2, ctablefatiga3 = SVM_performance_metrics(gsearch, X_test, y_test)\n",
        "print(f'Exactitud en prueba: {acc:.6f}')\n",
        "print(f'Precisión macro en prueba: {prec:.6f}')\n",
        "print(f'Recall macro en prueba: {rec:.6f}')\n",
        "print(f'F1 macro en prueba: {f1:.6f}')"
      ]
    },
    {
      "cell_type": "code",
      "execution_count": null,
      "metadata": {
        "colab": {
          "base_uri": "https://localhost:8080/"
        },
        "id": "filxSlCNvwLZ",
        "outputId": "8d47c9d0-f7a9-490c-8e96-cf7693c35f76"
      },
      "outputs": [
        {
          "name": "stdout",
          "output_type": "stream",
          "text": [
            "General por curvas\n",
            "[[   0    0 1200]\n",
            " [   0    0 1200]\n",
            " [   0    0 1200]]\n",
            "0.3333333333333333\n",
            "0.0\n",
            "0.0\n",
            "1.0\n"
          ]
        }
      ],
      "source": [
        "# Métrica de desempeño del SVM Sigmoid 2\n",
        "\n",
        "print(\"General por curvas\")\n",
        "print(ctable)\n",
        "print((ctable[0,0]+ctable[1,1]+ctable[2,2])/3600)\n",
        "print(ctable[0,0]/1200)\n",
        "print(ctable[1,1]/1200)\n",
        "print(ctable[2,2]/1200)\n",
        "\n",
        "\n"
      ]
    },
    {
      "cell_type": "code",
      "execution_count": null,
      "metadata": {
        "colab": {
          "base_uri": "https://localhost:8080/"
        },
        "id": "i5_NXPq_vwLg",
        "outputId": "6bc53f9c-6b51-4d67-88e2-9e1e2a2ed22c"
      },
      "outputs": [
        {
          "name": "stdout",
          "output_type": "stream",
          "text": [
            "Por fotos dúctiles\n",
            "[[  0   0 400]\n",
            " [  0   0   0]\n",
            " [  0   0   0]]\n",
            "[[  0   0 400]\n",
            " [  0   0   0]\n",
            " [  0   0   0]]\n",
            "[[  0   0 400]\n",
            " [  0   0   0]\n",
            " [  0   0   0]]\n"
          ]
        }
      ],
      "source": [
        "# Métrica de desempeño del SVM Sigmoid 3\n",
        "print(\"Por fotos dúctiles\")\n",
        "print(ctableductil1)\n",
        "print(ctableductil2)\n",
        "print(ctableductil3)"
      ]
    },
    {
      "cell_type": "code",
      "execution_count": null,
      "metadata": {
        "colab": {
          "base_uri": "https://localhost:8080/"
        },
        "id": "Jo4HzfUZvwLi",
        "outputId": "1837399c-9755-4e61-ef59-effb4171d8f8"
      },
      "outputs": [
        {
          "name": "stdout",
          "output_type": "stream",
          "text": [
            "Por fotos frágiles\n",
            "[[  0   0   0]\n",
            " [  0   0 400]\n",
            " [  0   0   0]]\n",
            "[[  0   0   0]\n",
            " [  0   0 400]\n",
            " [  0   0   0]]\n",
            "[[  0   0   0]\n",
            " [  0   0 400]\n",
            " [  0   0   0]]\n"
          ]
        }
      ],
      "source": [
        "print(\"Por fotos frágiles\")\n",
        "print(ctablefragil1)\n",
        "print(ctablefragil2)\n",
        "print(ctablefragil3)"
      ]
    },
    {
      "cell_type": "code",
      "execution_count": null,
      "metadata": {
        "colab": {
          "base_uri": "https://localhost:8080/"
        },
        "id": "48jDsXknvwLk",
        "outputId": "39f031d8-d6d1-4cbf-c4ae-b49a1038b959"
      },
      "outputs": [
        {
          "name": "stdout",
          "output_type": "stream",
          "text": [
            "Por fotos fatiga\n",
            "[[  0   0   0]\n",
            " [  0   0   0]\n",
            " [  0   0 400]]\n",
            "[[  0   0   0]\n",
            " [  0   0   0]\n",
            " [  0   0 400]]\n",
            "[[  0   0   0]\n",
            " [  0   0   0]\n",
            " [  0   0 400]]\n"
          ]
        }
      ],
      "source": [
        "print(\"Por fotos fatiga\")\n",
        "print(ctablefatiga1)\n",
        "print(ctablefatiga2)\n",
        "print(ctablefatiga3)"
      ]
    },
    {
      "cell_type": "markdown",
      "metadata": {
        "id": "HNgmwITU-zdS"
      },
      "source": [
        "## **8. Clasificación con SVM lineal**\n",
        "\n",
        "A continuación se procede a entrenar el modelo y encontrar hiperparámetros óptimos."
      ]
    },
    {
      "cell_type": "code",
      "execution_count": null,
      "metadata": {
        "id": "oBPVj0_6-zde"
      },
      "outputs": [],
      "source": [
        "# Función para entregar gsearch de SVM.\n",
        "from sklearn import model_selection\n",
        "\n",
        "def SVM_grid_search(X_train, y_train, param_grid, k, seed = 333):\n",
        "  \"\"\"\n",
        "  Entradas:\n",
        "    X_train: Arreglo de NumPy con shape (n, m),\n",
        "    y_train: Arreglo de NumPy con shape (n,).\n",
        "    param_grid: Hiperparámetros a explorar.\n",
        "    k: Número de pliegues de validación cruzada\n",
        "    seed: semilla aleatoria para la creación de la partición.\n",
        "  Retorna:\n",
        "    gsearch: GridSearchCV entrenado con X_train y y_train.\n",
        "  \"\"\"\n",
        "\n",
        "  from sklearn.svm import SVC\n",
        "  SVM_clf = SVC(kernel='linear', random_state=seed)\n",
        "\n",
        "  # Declarar y entrenar el objeto GridSearchCV.\n",
        "  from sklearn.model_selection import GridSearchCV\n",
        "  gsearch = GridSearchCV(SVM_clf,\n",
        "                   cv=k,\n",
        "                   param_grid=param_grid,\n",
        "                   return_train_score=True\n",
        "                    )\n",
        "  gsearch.fit(X_train, y_train)\n",
        "\n",
        "  return gsearch"
      ]
    },
    {
      "cell_type": "code",
      "execution_count": null,
      "metadata": {
        "colab": {
          "base_uri": "https://localhost:8080/"
        },
        "id": "WpW-v_nN-zdh",
        "outputId": "c73175bf-5ad4-41d5-f521-003c838476fa"
      },
      "outputs": [
        {
          "name": "stdout",
          "output_type": "stream",
          "text": [
            "Mejores hiperparámetros:\n",
            " {'C': 0.015625}\n",
            "Mejor exactitud (validación): 0.529405\n"
          ]
        }
      ],
      "source": [
        "# Mejores Hiperparámetros Obtenidos del SVM Linear\n",
        "param_grid = {\n",
        "    \"C\": [2**i for i in range(-7, -5, 1)],     # Parámetro de Regularización.\n",
        "      }\n",
        "gsearch = SVM_grid_search(X_train, y_train, param_grid, k=3)\n",
        "print(f'Mejores hiperparámetros:\\n {gsearch.best_params_}')\n",
        "print(f'Mejor exactitud (validación): {gsearch.best_score_:.6f}')"
      ]
    },
    {
      "cell_type": "code",
      "execution_count": null,
      "metadata": {
        "id": "wscByyJZ-zdj"
      },
      "outputs": [],
      "source": [
        "# Función de Métricas de Desempeño del SVM Linear\n",
        "\n",
        "from sklearn import metrics\n",
        "from scipy.stats.contingency import crosstab\n",
        "\n",
        "def SVM_performance_metrics(gsearch, X_test, y_test):\n",
        "  \"\"\"\n",
        "  Entradas:\n",
        "    gsearch: Modelo entrenado con GridSearchCV\n",
        "    X_digits_test: Arreglo de numpy con shape (n, m)\n",
        "    y_digits_test: Arreglo de numpy con shape (n,)\n",
        "  Retorna:\n",
        "    accuracy: exactitud en prueba.\n",
        "    precision_macro: precisión macro en prueba.\n",
        "    recall_macro: recall macro en prueba.\n",
        "    f1_macro: f1 score macro en prueba.\n",
        "  \"\"\"\n",
        "\n",
        "  from sklearn.metrics import accuracy_score, precision_score, recall_score, f1_score\n",
        "  y_pred = gsearch.predict(X_test)\n",
        "  accuracy = accuracy_score(y_test, y_pred)\n",
        "  precision_macro = precision_score(y_test, y_pred, average=\"macro\")\n",
        "  recall_macro = recall_score(y_test, y_pred, average=\"macro\")\n",
        "  f1_macro = f1_score(y_test, y_pred, average=\"macro\")\n",
        "  options = [1, 2, 3]\n",
        "  ctable = crosstab(y_test, y_pred, levels=(options, options))\n",
        "  ctableductil1 = crosstab(y_test[0:400,], y_pred[0:400,], levels=(options, options))\n",
        "  ctableductil2 = crosstab(y_test[400:800,], y_pred[400:800,], levels=(options, options))\n",
        "  ctableductil3 = crosstab(y_test[800:1200,], y_pred[800:1200,], levels=(options, options))\n",
        "  ctablefragil1 = crosstab(y_test[1200:1600,], y_pred[1200:1600,], levels=(options, options))\n",
        "  ctablefragil2 = crosstab(y_test[1600:2000,], y_pred[1600:2000,], levels=(options, options))\n",
        "  ctablefragil3 = crosstab(y_test[2000:2400,], y_pred[2000:2400,], levels=(options, options))\n",
        "  ctablefatiga1 = crosstab(y_test[2400:2800,], y_pred[2400:2800,], levels=(options, options))\n",
        "  ctablefatiga2 = crosstab(y_test[2800:3200,], y_pred[2800:3200,], levels=(options, options))\n",
        "  ctablefatiga3 = crosstab(y_test[3200:3600,], y_pred[3200:3600,], levels=(options, options))\n",
        "\n",
        "  return accuracy, precision_macro, recall_macro, f1_macro, ctable.count, ctableductil1.count, ctableductil2.count, ctableductil3.count, ctablefragil1.count, ctablefragil2.count, ctablefragil3.count, ctablefatiga1.count, ctablefatiga2.count, ctablefatiga3.count"
      ]
    },
    {
      "cell_type": "code",
      "execution_count": null,
      "metadata": {
        "colab": {
          "base_uri": "https://localhost:8080/"
        },
        "id": "ld7yTcTB-zdl",
        "outputId": "0ab07433-5573-438a-bc93-39e5ff0ae9a7"
      },
      "outputs": [
        {
          "name": "stdout",
          "output_type": "stream",
          "text": [
            "Exactitud en prueba: 0.571667\n",
            "Precisión macro en prueba: 0.589385\n",
            "Recall macro en prueba: 0.571667\n",
            "F1 macro en prueba: 0.575735\n"
          ]
        }
      ],
      "source": [
        "# Métrica de desempeño del SVM Linear 1\n",
        "\n",
        "acc, prec, rec, f1, ctable, ctableductil1, ctableductil2, ctableductil3, ctablefragil1, ctablefragil2, ctablefragil3, ctablefatiga1, ctablefatiga2, ctablefatiga3 = SVM_performance_metrics(gsearch, X_test, y_test)\n",
        "print(f'Exactitud en prueba: {acc:.6f}')\n",
        "print(f'Precisión macro en prueba: {prec:.6f}')\n",
        "print(f'Recall macro en prueba: {rec:.6f}')\n",
        "print(f'F1 macro en prueba: {f1:.6f}')"
      ]
    },
    {
      "cell_type": "code",
      "execution_count": null,
      "metadata": {
        "colab": {
          "base_uri": "https://localhost:8080/"
        },
        "id": "O1X1yU87vyCn",
        "outputId": "fc35bb56-ceab-4aa3-ada0-1cf9365b580a"
      },
      "outputs": [
        {
          "name": "stdout",
          "output_type": "stream",
          "text": [
            "General por curvas\n",
            "[[863  41 296]\n",
            " [ 53 762 385]\n",
            " [ 77 690 433]]\n",
            "0.5716666666666667\n",
            "0.7191666666666666\n",
            "0.635\n",
            "0.36083333333333334\n"
          ]
        }
      ],
      "source": [
        "# Métrica de desempeño del SVM Linear 2\n",
        "\n",
        "print(\"General por curvas\")\n",
        "print(ctable)\n",
        "print((ctable[0,0]+ctable[1,1]+ctable[2,2])/3600)\n",
        "print(ctable[0,0]/1200)\n",
        "print(ctable[1,1]/1200)\n",
        "print(ctable[2,2]/1200)\n",
        "\n",
        "\n"
      ]
    },
    {
      "cell_type": "code",
      "execution_count": null,
      "metadata": {
        "colab": {
          "base_uri": "https://localhost:8080/"
        },
        "id": "UwwIAmx6vyCr",
        "outputId": "172de597-7290-4334-be50-b5775d943042"
      },
      "outputs": [
        {
          "name": "stdout",
          "output_type": "stream",
          "text": [
            "Por fotos dúctiles\n",
            "[[389   0  11]\n",
            " [  0   0   0]\n",
            " [  0   0   0]]\n",
            "[[240  13 147]\n",
            " [  0   0   0]\n",
            " [  0   0   0]]\n",
            "[[234  28 138]\n",
            " [  0   0   0]\n",
            " [  0   0   0]]\n"
          ]
        }
      ],
      "source": [
        "# Métrica de desempeño del SVM Linear 3\n",
        "print(\"Por fotos dúctiles\")\n",
        "print(ctableductil1)\n",
        "print(ctableductil2)\n",
        "print(ctableductil3)"
      ]
    },
    {
      "cell_type": "code",
      "execution_count": null,
      "metadata": {
        "colab": {
          "base_uri": "https://localhost:8080/"
        },
        "id": "hSJJPledvyCu",
        "outputId": "98e5576d-c463-47b1-fd54-14346db26073"
      },
      "outputs": [
        {
          "name": "stdout",
          "output_type": "stream",
          "text": [
            "Por fotos frágiles\n",
            "[[  0   0   0]\n",
            " [ 28 200 172]\n",
            " [  0   0   0]]\n",
            "[[  0   0   0]\n",
            " [  0 382  18]\n",
            " [  0   0   0]]\n",
            "[[  0   0   0]\n",
            " [ 25 180 195]\n",
            " [  0   0   0]]\n"
          ]
        }
      ],
      "source": [
        "print(\"Por fotos frágiles\")\n",
        "print(ctablefragil1)\n",
        "print(ctablefragil2)\n",
        "print(ctablefragil3)"
      ]
    },
    {
      "cell_type": "code",
      "execution_count": null,
      "metadata": {
        "colab": {
          "base_uri": "https://localhost:8080/"
        },
        "id": "1svx8WjkvyCx",
        "outputId": "19493b0b-afd4-4fd4-b989-7f0fc922ff48"
      },
      "outputs": [
        {
          "name": "stdout",
          "output_type": "stream",
          "text": [
            "Por fotos fatiga\n",
            "[[  0   0   0]\n",
            " [  0   0   0]\n",
            " [ 24 253 123]]\n",
            "[[  0   0   0]\n",
            " [  0   0   0]\n",
            " [ 52 104 244]]\n",
            "[[  0   0   0]\n",
            " [  0   0   0]\n",
            " [  1 333  66]]\n"
          ]
        }
      ],
      "source": [
        "print(\"Por fotos fatiga\")\n",
        "print(ctablefatiga1)\n",
        "print(ctablefatiga2)\n",
        "print(ctablefatiga3)"
      ]
    },
    {
      "cell_type": "markdown",
      "metadata": {
        "id": "uFunjwUwAvD9"
      },
      "source": [
        "## **9. Clasificación con Regresion Logística**\n",
        "\n",
        "A continuación se procede a entrenar el modelo y encontrar hiperparámetros óptimos."
      ]
    },
    {
      "cell_type": "code",
      "execution_count": null,
      "metadata": {
        "colab": {
          "base_uri": "https://localhost:8080/",
          "height": 75
        },
        "id": "H7J9BP2kCEe7",
        "outputId": "7c12ab2e-deb2-48f4-93a9-cf81b82fb3e5"
      },
      "outputs": [
        {
          "data": {
            "text/html": [
              "<style>#sk-container-id-1 {color: black;background-color: white;}#sk-container-id-1 pre{padding: 0;}#sk-container-id-1 div.sk-toggleable {background-color: white;}#sk-container-id-1 label.sk-toggleable__label {cursor: pointer;display: block;width: 100%;margin-bottom: 0;padding: 0.3em;box-sizing: border-box;text-align: center;}#sk-container-id-1 label.sk-toggleable__label-arrow:before {content: \"▸\";float: left;margin-right: 0.25em;color: #696969;}#sk-container-id-1 label.sk-toggleable__label-arrow:hover:before {color: black;}#sk-container-id-1 div.sk-estimator:hover label.sk-toggleable__label-arrow:before {color: black;}#sk-container-id-1 div.sk-toggleable__content {max-height: 0;max-width: 0;overflow: hidden;text-align: left;background-color: #f0f8ff;}#sk-container-id-1 div.sk-toggleable__content pre {margin: 0.2em;color: black;border-radius: 0.25em;background-color: #f0f8ff;}#sk-container-id-1 input.sk-toggleable__control:checked~div.sk-toggleable__content {max-height: 200px;max-width: 100%;overflow: auto;}#sk-container-id-1 input.sk-toggleable__control:checked~label.sk-toggleable__label-arrow:before {content: \"▾\";}#sk-container-id-1 div.sk-estimator input.sk-toggleable__control:checked~label.sk-toggleable__label {background-color: #d4ebff;}#sk-container-id-1 div.sk-label input.sk-toggleable__control:checked~label.sk-toggleable__label {background-color: #d4ebff;}#sk-container-id-1 input.sk-hidden--visually {border: 0;clip: rect(1px 1px 1px 1px);clip: rect(1px, 1px, 1px, 1px);height: 1px;margin: -1px;overflow: hidden;padding: 0;position: absolute;width: 1px;}#sk-container-id-1 div.sk-estimator {font-family: monospace;background-color: #f0f8ff;border: 1px dotted black;border-radius: 0.25em;box-sizing: border-box;margin-bottom: 0.5em;}#sk-container-id-1 div.sk-estimator:hover {background-color: #d4ebff;}#sk-container-id-1 div.sk-parallel-item::after {content: \"\";width: 100%;border-bottom: 1px solid gray;flex-grow: 1;}#sk-container-id-1 div.sk-label:hover label.sk-toggleable__label {background-color: #d4ebff;}#sk-container-id-1 div.sk-serial::before {content: \"\";position: absolute;border-left: 1px solid gray;box-sizing: border-box;top: 0;bottom: 0;left: 50%;z-index: 0;}#sk-container-id-1 div.sk-serial {display: flex;flex-direction: column;align-items: center;background-color: white;padding-right: 0.2em;padding-left: 0.2em;position: relative;}#sk-container-id-1 div.sk-item {position: relative;z-index: 1;}#sk-container-id-1 div.sk-parallel {display: flex;align-items: stretch;justify-content: center;background-color: white;position: relative;}#sk-container-id-1 div.sk-item::before, #sk-container-id-1 div.sk-parallel-item::before {content: \"\";position: absolute;border-left: 1px solid gray;box-sizing: border-box;top: 0;bottom: 0;left: 50%;z-index: -1;}#sk-container-id-1 div.sk-parallel-item {display: flex;flex-direction: column;z-index: 1;position: relative;background-color: white;}#sk-container-id-1 div.sk-parallel-item:first-child::after {align-self: flex-end;width: 50%;}#sk-container-id-1 div.sk-parallel-item:last-child::after {align-self: flex-start;width: 50%;}#sk-container-id-1 div.sk-parallel-item:only-child::after {width: 0;}#sk-container-id-1 div.sk-dashed-wrapped {border: 1px dashed gray;margin: 0 0.4em 0.5em 0.4em;box-sizing: border-box;padding-bottom: 0.4em;background-color: white;}#sk-container-id-1 div.sk-label label {font-family: monospace;font-weight: bold;display: inline-block;line-height: 1.2em;}#sk-container-id-1 div.sk-label-container {text-align: center;}#sk-container-id-1 div.sk-container {/* jupyter's `normalize.less` sets `[hidden] { display: none; }` but bootstrap.min.css set `[hidden] { display: none !important; }` so we also need the `!important` here to be able to override the default hidden behavior on the sphinx rendered scikit-learn.org. See: https://github.com/scikit-learn/scikit-learn/issues/21755 */display: inline-block !important;position: relative;}#sk-container-id-1 div.sk-text-repr-fallback {display: none;}</style><div id=\"sk-container-id-1\" class=\"sk-top-container\"><div class=\"sk-text-repr-fallback\"><pre>LogisticRegression(random_state=333)</pre><b>In a Jupyter environment, please rerun this cell to show the HTML representation or trust the notebook. <br />On GitHub, the HTML representation is unable to render, please try loading this page with nbviewer.org.</b></div><div class=\"sk-container\" hidden><div class=\"sk-item\"><div class=\"sk-estimator sk-toggleable\"><input class=\"sk-toggleable__control sk-hidden--visually\" id=\"sk-estimator-id-1\" type=\"checkbox\" checked><label for=\"sk-estimator-id-1\" class=\"sk-toggleable__label sk-toggleable__label-arrow\">LogisticRegression</label><div class=\"sk-toggleable__content\"><pre>LogisticRegression(random_state=333)</pre></div></div></div></div></div>"
            ],
            "text/plain": [
              "LogisticRegression(random_state=333)"
            ]
          },
          "execution_count": 59,
          "metadata": {},
          "output_type": "execute_result"
        }
      ],
      "source": [
        "from sklearn import linear_model\n",
        "clf_numeric = linear_model.LogisticRegression(random_state=333)\n",
        "clf_numeric.fit(X_train, y_train)\n"
      ]
    },
    {
      "cell_type": "code",
      "execution_count": null,
      "metadata": {
        "id": "N5x3P6gEAvER"
      },
      "outputs": [],
      "source": [
        "# Función de Métricas de Desempeño del Modelo de Regresión Logística\n",
        "\n",
        "from sklearn import metrics\n",
        "from scipy.stats.contingency import crosstab\n",
        "\n",
        "def RegLog_performance_metrics(clf_numeric, X_test, y_test):\n",
        "  \"\"\"\n",
        "  Entradas:\n",
        "    gsearch: Modelo entrenado con GridSearchCV\n",
        "    X_digits_test: Arreglo de numpy con shape (n, m)\n",
        "    y_digits_test: Arreglo de numpy con shape (n,)\n",
        "  Retorna:\n",
        "    accuracy: exactitud en prueba.\n",
        "    precision_macro: precisión macro en prueba.\n",
        "    recall_macro: recall macro en prueba.\n",
        "    f1_macro: f1 score macro en prueba.\n",
        "  \"\"\"\n",
        "\n",
        "  from sklearn.metrics import accuracy_score, precision_score, recall_score, f1_score\n",
        "  y_pred = clf_numeric.predict(X_test)\n",
        "  accuracy = accuracy_score(y_test, y_pred)\n",
        "  precision_macro = precision_score(y_test, y_pred, average=\"macro\")\n",
        "  recall_macro = recall_score(y_test, y_pred, average=\"macro\")\n",
        "  f1_macro = f1_score(y_test, y_pred, average=\"macro\")\n",
        "  options = [1, 2, 3]\n",
        "  ctable = crosstab(y_test, y_pred, levels=(options, options))\n",
        "  ctableductil1 = crosstab(y_test[0:400,], y_pred[0:400,], levels=(options, options))\n",
        "  ctableductil2 = crosstab(y_test[400:800,], y_pred[400:800,], levels=(options, options))\n",
        "  ctableductil3 = crosstab(y_test[800:1200,], y_pred[800:1200,], levels=(options, options))\n",
        "  ctablefragil1 = crosstab(y_test[1200:1600,], y_pred[1200:1600,], levels=(options, options))\n",
        "  ctablefragil2 = crosstab(y_test[1600:2000,], y_pred[1600:2000,], levels=(options, options))\n",
        "  ctablefragil3 = crosstab(y_test[2000:2400,], y_pred[2000:2400,], levels=(options, options))\n",
        "  ctablefatiga1 = crosstab(y_test[2400:2800,], y_pred[2400:2800,], levels=(options, options))\n",
        "  ctablefatiga2 = crosstab(y_test[2800:3200,], y_pred[2800:3200,], levels=(options, options))\n",
        "  ctablefatiga3 = crosstab(y_test[3200:3600,], y_pred[3200:3600,], levels=(options, options))\n",
        "\n",
        "  return accuracy, precision_macro, recall_macro, f1_macro, ctable.count, ctableductil1.count, ctableductil2.count, ctableductil3.count, ctablefragil1.count, ctablefragil2.count, ctablefragil3.count, ctablefatiga1.count, ctablefatiga2.count, ctablefatiga3.count"
      ]
    },
    {
      "cell_type": "code",
      "execution_count": null,
      "metadata": {
        "colab": {
          "base_uri": "https://localhost:8080/"
        },
        "id": "DDVgIIZ1AvET",
        "outputId": "7e3b64ae-0fb6-4373-f56f-d33025aefb7a"
      },
      "outputs": [
        {
          "name": "stdout",
          "output_type": "stream",
          "text": [
            "Exactitud en prueba: 0.558889\n",
            "Precisión macro en prueba: 0.580836\n",
            "Recall macro en prueba: 0.558889\n",
            "F1 macro en prueba: 0.565995\n"
          ]
        }
      ],
      "source": [
        "# Métrica de desempeño del Modelo de Regresión Logística 1\n",
        "\n",
        "acc, prec, rec, f1, ctable, ctableductil1, ctableductil2, ctableductil3, ctablefragil1, ctablefragil2, ctablefragil3, ctablefatiga1, ctablefatiga2, ctablefatiga3 = RegLog_performance_metrics(clf_numeric, X_test, y_test)\n",
        "print(f'Exactitud en prueba: {acc:.6f}')\n",
        "print(f'Precisión macro en prueba: {prec:.6f}')\n",
        "print(f'Recall macro en prueba: {rec:.6f}')\n",
        "print(f'F1 macro en prueba: {f1:.6f}')"
      ]
    },
    {
      "cell_type": "code",
      "execution_count": null,
      "metadata": {
        "colab": {
          "base_uri": "https://localhost:8080/"
        },
        "id": "U1iChvflvzXJ",
        "outputId": "3f011f08-9027-48ae-ea1a-9c373fc257f8"
      },
      "outputs": [
        {
          "name": "stdout",
          "output_type": "stream",
          "text": [
            "General por curvas\n",
            "[[842  68 290]\n",
            " [ 73 697 430]\n",
            " [ 68 659 473]]\n",
            "0.5588888888888889\n",
            "0.7016666666666667\n",
            "0.5808333333333333\n",
            "0.39416666666666667\n"
          ]
        }
      ],
      "source": [
        "# Métrica de desempeño del Modelo de Regresión Logística 2\n",
        "\n",
        "print(\"General por curvas\")\n",
        "print(ctable)\n",
        "print((ctable[0,0]+ctable[1,1]+ctable[2,2])/3600)\n",
        "print(ctable[0,0]/1200)\n",
        "print(ctable[1,1]/1200)\n",
        "print(ctable[2,2]/1200)\n",
        "\n",
        "\n"
      ]
    },
    {
      "cell_type": "code",
      "execution_count": null,
      "metadata": {
        "colab": {
          "base_uri": "https://localhost:8080/"
        },
        "id": "Qplur9KtvzXL",
        "outputId": "c65d3ae7-61d2-41ac-ca2c-e54bd1021670"
      },
      "outputs": [
        {
          "name": "stdout",
          "output_type": "stream",
          "text": [
            "Por fotos dúctiles\n",
            "[[389   0  11]\n",
            " [  0   0   0]\n",
            " [  0   0   0]]\n",
            "[[213  30 157]\n",
            " [  0   0   0]\n",
            " [  0   0   0]]\n",
            "[[240  38 122]\n",
            " [  0   0   0]\n",
            " [  0   0   0]]\n"
          ]
        }
      ],
      "source": [
        "# Métrica de desempeño del Modelo de Regresión Logística 3\n",
        "print(\"Por fotos dúctiles\")\n",
        "print(ctableductil1)\n",
        "print(ctableductil2)\n",
        "print(ctableductil3)"
      ]
    },
    {
      "cell_type": "code",
      "execution_count": null,
      "metadata": {
        "colab": {
          "base_uri": "https://localhost:8080/"
        },
        "id": "t2eV_6I-vzXN",
        "outputId": "7aa470b2-a7e5-490a-b2fb-e37bb1ea69fb"
      },
      "outputs": [
        {
          "name": "stdout",
          "output_type": "stream",
          "text": [
            "Por fotos frágiles\n",
            "[[  0   0   0]\n",
            " [ 44 183 173]\n",
            " [  0   0   0]]\n",
            "[[  0   0   0]\n",
            " [  1 350  49]\n",
            " [  0   0   0]]\n",
            "[[  0   0   0]\n",
            " [ 28 164 208]\n",
            " [  0   0   0]]\n"
          ]
        }
      ],
      "source": [
        "print(\"Por fotos frágiles\")\n",
        "print(ctablefragil1)\n",
        "print(ctablefragil2)\n",
        "print(ctablefragil3)"
      ]
    },
    {
      "cell_type": "code",
      "execution_count": null,
      "metadata": {
        "colab": {
          "base_uri": "https://localhost:8080/"
        },
        "id": "bmDkfjr0vzXP",
        "outputId": "055ff6d4-f404-47d4-f589-41937bd9e646"
      },
      "outputs": [
        {
          "name": "stdout",
          "output_type": "stream",
          "text": [
            "Por fotos fatiga\n",
            "[[  0   0   0]\n",
            " [  0   0   0]\n",
            " [ 21 223 156]]\n",
            "[[  0   0   0]\n",
            " [  0   0   0]\n",
            " [ 46 132 222]]\n",
            "[[  0   0   0]\n",
            " [  0   0   0]\n",
            " [  1 304  95]]\n"
          ]
        }
      ],
      "source": [
        "print(\"Por fotos fatiga\")\n",
        "print(ctablefatiga1)\n",
        "print(ctablefatiga2)\n",
        "print(ctablefatiga3)"
      ]
    },
    {
      "cell_type": "markdown",
      "metadata": {
        "id": "2jBJZFh3HsdT"
      },
      "source": [
        "## **10. Clasificación con KNN**\n",
        "\n",
        "A continuación se procede a entrenar el modelo y encontrar hiperparámetros óptimos."
      ]
    },
    {
      "cell_type": "code",
      "execution_count": null,
      "metadata": {
        "id": "x2J8J7mrHsda"
      },
      "outputs": [],
      "source": [
        "# Función para entregar gsearch del KNN.\n",
        "from sklearn.neighbors import KNeighborsClassifier\n",
        "\n",
        "def KNN_grid_search(X_train, y_train, param_grid, k):\n",
        "  \"\"\"\n",
        "  Entradas:\n",
        "    X_train: Arreglo de NumPy con shape (n, m),\n",
        "    y_train: Arreglo de NumPy con shape (n,).\n",
        "    param_grid: Hiperparámetros a explorar.\n",
        "    k: Número de pliegues de validación cruzada\n",
        "    seed: semilla aleatoria para la creación de la partición.\n",
        "  Retorna:\n",
        "    gsearch: GridSearchCV entrenado con X_train y y_train.\n",
        "  \"\"\"\n",
        "  knn_clf = KNeighborsClassifier()\n",
        "\n",
        "  # Declarar y entrenar el objeto GridSearchCV.\n",
        "  from sklearn.model_selection import GridSearchCV\n",
        "  gsearch = GridSearchCV(knn_clf,\n",
        "                   cv=k,\n",
        "                   param_grid=param_grid,\n",
        "                   return_train_score=True\n",
        "                    )\n",
        "  gsearch.fit(X_train, y_train)\n",
        "\n",
        "  return gsearch"
      ]
    },
    {
      "cell_type": "code",
      "execution_count": null,
      "metadata": {
        "colab": {
          "base_uri": "https://localhost:8080/"
        },
        "id": "s_PSfwvRHsdc",
        "outputId": "0f6fd2a4-7a36-443a-df69-404f95fd23d1"
      },
      "outputs": [
        {
          "name": "stdout",
          "output_type": "stream",
          "text": [
            "Mejores hiperparámetros:\n",
            " {'n_neighbors': 2}\n",
            "Mejor exactitud (validación): 0.461190\n"
          ]
        }
      ],
      "source": [
        "# Mejores Hiperparámetros para KNN\n",
        "param_grid = {\n",
        "    \"n_neighbors\": [nn for nn in range(1, 50)],     # Número de vecinos .\n",
        "    }\n",
        "gsearch = KNN_grid_search(X_train, y_train, param_grid, k=3)\n",
        "print(f'Mejores hiperparámetros:\\n {gsearch.best_params_}')\n",
        "print(f'Mejor exactitud (validación): {gsearch.best_score_:.6f}')"
      ]
    },
    {
      "cell_type": "code",
      "execution_count": null,
      "metadata": {
        "id": "n3ii6CcGHsdf"
      },
      "outputs": [],
      "source": [
        "# Función de Métricas de Desempeño para KNN\n",
        "\n",
        "from sklearn import metrics\n",
        "from scipy.stats.contingency import crosstab\n",
        "\n",
        "def KNN_performance_metrics(gsearch, X_test, y_test):\n",
        "  \"\"\"\n",
        "  Entradas:\n",
        "    gsearch: Modelo entrenado con GridSearchCV\n",
        "    X_digits_test: Arreglo de numpy con shape (n, m)\n",
        "    y_digits_test: Arreglo de numpy con shape (n,)\n",
        "  Retorna:\n",
        "    accuracy: exactitud en prueba.\n",
        "    precision_macro: precisión macro en prueba.\n",
        "    recall_macro: recall macro en prueba.\n",
        "    f1_macro: f1 score macro en prueba.\n",
        "  \"\"\"\n",
        "\n",
        "  from sklearn.metrics import accuracy_score, precision_score, recall_score, f1_score\n",
        "  y_pred = gsearch.predict(X_test)\n",
        "  accuracy = accuracy_score(y_test, y_pred)\n",
        "  precision_macro = precision_score(y_test, y_pred, average=\"macro\")\n",
        "  recall_macro = recall_score(y_test, y_pred, average=\"macro\")\n",
        "  f1_macro = f1_score(y_test, y_pred, average=\"macro\")\n",
        "  options = [1, 2, 3]\n",
        "  ctable = crosstab(y_test, y_pred, levels=(options, options))\n",
        "  ctableductil1 = crosstab(y_test[0:400,], y_pred[0:400,], levels=(options, options))\n",
        "  ctableductil2 = crosstab(y_test[400:800,], y_pred[400:800,], levels=(options, options))\n",
        "  ctableductil3 = crosstab(y_test[800:1200,], y_pred[800:1200,], levels=(options, options))\n",
        "  ctablefragil1 = crosstab(y_test[1200:1600,], y_pred[1200:1600,], levels=(options, options))\n",
        "  ctablefragil2 = crosstab(y_test[1600:2000,], y_pred[1600:2000,], levels=(options, options))\n",
        "  ctablefragil3 = crosstab(y_test[2000:2400,], y_pred[2000:2400,], levels=(options, options))\n",
        "  ctablefatiga1 = crosstab(y_test[2400:2800,], y_pred[2400:2800,], levels=(options, options))\n",
        "  ctablefatiga2 = crosstab(y_test[2800:3200,], y_pred[2800:3200,], levels=(options, options))\n",
        "  ctablefatiga3 = crosstab(y_test[3200:3600,], y_pred[3200:3600,], levels=(options, options))\n",
        "\n",
        "  return accuracy, precision_macro, recall_macro, f1_macro, ctable.count, ctableductil1.count, ctableductil2.count, ctableductil3.count, ctablefragil1.count, ctablefragil2.count, ctablefragil3.count, ctablefatiga1.count, ctablefatiga2.count, ctablefatiga3.count"
      ]
    },
    {
      "cell_type": "code",
      "execution_count": null,
      "metadata": {
        "colab": {
          "base_uri": "https://localhost:8080/"
        },
        "id": "9GOWs9ERHsdf",
        "outputId": "10d5804d-167c-4e4d-a6fa-9eec3116c080"
      },
      "outputs": [
        {
          "name": "stdout",
          "output_type": "stream",
          "text": [
            "Exactitud en prueba: 0.461389\n",
            "Precisión macro en prueba: 0.740502\n",
            "Recall macro en prueba: 0.461389\n",
            "F1 macro en prueba: 0.364956\n"
          ]
        }
      ],
      "source": [
        "# Métrica de desempeño para KNN 1\n",
        "\n",
        "acc, prec, rec, f1, ctable, ctableductil1, ctableductil2, ctableductil3, ctablefragil1, ctablefragil2, ctablefragil3, ctablefatiga1, ctablefatiga2, ctablefatiga3 = KNN_performance_metrics(gsearch, X_test, y_test)\n",
        "print(f'Exactitud en prueba: {acc:.6f}')\n",
        "print(f'Precisión macro en prueba: {prec:.6f}')\n",
        "print(f'Recall macro en prueba: {rec:.6f}')\n",
        "print(f'F1 macro en prueba: {f1:.6f}')"
      ]
    },
    {
      "cell_type": "code",
      "execution_count": null,
      "metadata": {
        "colab": {
          "base_uri": "https://localhost:8080/"
        },
        "id": "ACVv6dp9v1Ih",
        "outputId": "c53fbb0b-eb9b-4fcc-b2de-183a6803bd7e"
      },
      "outputs": [
        {
          "name": "stdout",
          "output_type": "stream",
          "text": [
            "General por curvas\n",
            "[[ 462    0  738]\n",
            " [  92    3 1105]\n",
            " [   4    0 1196]]\n",
            "0.4613888888888889\n",
            "0.385\n",
            "0.0025\n",
            "0.9966666666666667\n"
          ]
        }
      ],
      "source": [
        "# Métrica de desempeño para KNN 2\n",
        "\n",
        "print(\"General por curvas\")\n",
        "print(ctable)\n",
        "print((ctable[0,0]+ctable[1,1]+ctable[2,2])/3600)\n",
        "print(ctable[0,0]/1200)\n",
        "print(ctable[1,1]/1200)\n",
        "print(ctable[2,2]/1200)\n",
        "\n",
        "\n"
      ]
    },
    {
      "cell_type": "code",
      "execution_count": null,
      "metadata": {
        "colab": {
          "base_uri": "https://localhost:8080/"
        },
        "id": "ux4SzfqKv1Ii",
        "outputId": "d5560db4-f8e5-47b8-804a-83db6c6916c8"
      },
      "outputs": [
        {
          "name": "stdout",
          "output_type": "stream",
          "text": [
            "Por fotos dúctiles\n",
            "[[317   0  83]\n",
            " [  0   0   0]\n",
            " [  0   0   0]]\n",
            "[[ 64   0 336]\n",
            " [  0   0   0]\n",
            " [  0   0   0]]\n",
            "[[ 81   0 319]\n",
            " [  0   0   0]\n",
            " [  0   0   0]]\n"
          ]
        }
      ],
      "source": [
        "# Métrica de desempeño para KNN 3\n",
        "print(\"Por fotos dúctiles\")\n",
        "print(ctableductil1)\n",
        "print(ctableductil2)\n",
        "print(ctableductil3)"
      ]
    },
    {
      "cell_type": "code",
      "execution_count": null,
      "metadata": {
        "colab": {
          "base_uri": "https://localhost:8080/"
        },
        "id": "0GGJq39mv1Ii",
        "outputId": "1d2b54ec-ea51-4edb-eb82-f904a964c88f"
      },
      "outputs": [
        {
          "name": "stdout",
          "output_type": "stream",
          "text": [
            "Por fotos frágiles\n",
            "[[  0   0   0]\n",
            " [ 41   2 357]\n",
            " [  0   0   0]]\n",
            "[[  0   0   0]\n",
            " [ 30   1 369]\n",
            " [  0   0   0]]\n",
            "[[  0   0   0]\n",
            " [ 21   0 379]\n",
            " [  0   0   0]]\n"
          ]
        }
      ],
      "source": [
        "print(\"Por fotos frágiles\")\n",
        "print(ctablefragil1)\n",
        "print(ctablefragil2)\n",
        "print(ctablefragil3)"
      ]
    },
    {
      "cell_type": "code",
      "execution_count": null,
      "metadata": {
        "colab": {
          "base_uri": "https://localhost:8080/"
        },
        "id": "mzQeZokjv1Ij",
        "outputId": "c7c3ed4a-4f7c-4f05-c2ac-f4a973ebe2c8"
      },
      "outputs": [
        {
          "name": "stdout",
          "output_type": "stream",
          "text": [
            "Por fotos fatiga\n",
            "[[  0   0   0]\n",
            " [  0   0   0]\n",
            " [  3   0 397]]\n",
            "[[  0   0   0]\n",
            " [  0   0   0]\n",
            " [  1   0 399]]\n",
            "[[  0   0   0]\n",
            " [  0   0   0]\n",
            " [  0   0 400]]\n"
          ]
        }
      ],
      "source": [
        "print(\"Por fotos fatiga\")\n",
        "print(ctablefatiga1)\n",
        "print(ctablefatiga2)\n",
        "print(ctablefatiga3)"
      ]
    },
    {
      "cell_type": "markdown",
      "metadata": {
        "id": "3jVL41ubR0JS"
      },
      "source": [
        "## **11. Clasificación con Red Neuronal de 1 Capa Oculta**\n",
        "\n",
        "A continuación se procede a entrenar el modelo y encontrar hiperparámetros óptimos."
      ]
    },
    {
      "cell_type": "code",
      "execution_count": null,
      "metadata": {
        "id": "zKhfWdZBR0Jc"
      },
      "outputs": [],
      "source": [
        "# Función para entregar gsearch de la Red Neuronal.\n",
        "from sklearn import model_selection\n",
        "\n",
        "def RN_grid_search(X_train, y_train, param_grid, k, seed = 333):\n",
        "  \"\"\"\n",
        "  Entradas:\n",
        "    X_train: Arreglo de NumPy con shape (n, m),\n",
        "    y_train: Arreglo de NumPy con shape (n,).\n",
        "    param_grid: Hiperparámetros a explorar.\n",
        "    k: Número de pliegues de validación cruzada\n",
        "    seed: semilla aleatoria para la creación de la partición.\n",
        "  Retorna:\n",
        "    gsearch: GridSearchCV entrenado con X_train y y_train.\n",
        "  \"\"\"\n",
        "\n",
        "  from sklearn.neural_network import MLPClassifier\n",
        "  RN_clf = MLPClassifier(learning_rate='constant', # Tipo de tasa de aprendizaje.\n",
        "                    learning_rate_init=0.001, # Tasa de aprendizaje inicial.\n",
        "                    tol= 1e-4)          # Valor de tolerancia de la optimización.\n",
        "\n",
        "\n",
        "  # Declarar y entrenar el objeto GridSearchCV.\n",
        "  # hidden_layer_sizes\": [(250,)] y activation\" : [\"identity\", \"logistic\", \"tanh\", \"relu\"] dio como mejor relu, corre en 25 min en colab\n",
        "  from sklearn.model_selection import GridSearchCV\n",
        "  gsearch = GridSearchCV(RN_clf,\n",
        "                   cv=k,\n",
        "                   param_grid=param_grid,\n",
        "                   return_train_score=True\n",
        "                    )\n",
        "  gsearch.fit(X_train, y_train)\n",
        "\n",
        "  return gsearch"
      ]
    },
    {
      "cell_type": "code",
      "execution_count": null,
      "metadata": {
        "colab": {
          "base_uri": "https://localhost:8080/"
        },
        "id": "8hl1P85bR0Jd",
        "outputId": "3696f2ca-9d1c-4efb-8fe1-d5c58c2f2551"
      },
      "outputs": [
        {
          "name": "stdout",
          "output_type": "stream",
          "text": [
            "Mejores hiperparámetros:\n",
            " {'activation': 'relu', 'hidden_layer_sizes': (300,), 'max_iter': 250, 'solver': 'adam'}\n",
            "Mejor exactitud (validación): 0.734643\n"
          ]
        }
      ],
      "source": [
        "# Mejores Hiperparámetros Obtenidos de la red neuronal\n",
        "# hidden_layer_sizes\": [(100,), (50,), (25,), (12,), (6,)], dio como mejor (100,), corre en 11 min en colab\n",
        "# hidden_layer_sizes\": [(200,), (150,), (100,)], dio como mejor (200,), corre en 15 min en colab\n",
        "# hidden_layer_sizes\": [(250,), (200,)] dio como mejor (250,), corre en 15 min en colab\n",
        "# hidden_layer_sizes\": [(300,), (250,)] dio como mejor (250,), corre en 17 min en colab\n",
        "# hidden_layer_sizes\": [(250,)] y activation\" : [\"identity\", \"logistic\", \"tanh\", \"relu\"] dio como mejor relu, corre en 25 min en colab\n",
        "# hidden_layer_sizes\": [(250,)], activation\" : [\"relu\"] \"solver\" : ['lbfgs', 'sgd', 'adam'] dio como mejor adam, corre en 18 min en colab\n",
        "# hidden_layer_sizes\": [(250,)], activation\" : [\"relu\"], \"solver\" : ['adam'] y \"max_iter\" : range(100, 500, 100) dio como mejor 200, corre en 18 min en colab\n",
        "\n",
        "param_grid = {\n",
        "    \"hidden_layer_sizes\": [(200,),(250,),(300,)],     # Número de neuronas.\n",
        "    \"activation\" : [\"relu\"],    # Función de activación\n",
        "    \"solver\" : ['adam'], # Solucionador optimizar funciones de peso\n",
        "    \"max_iter\" : [150, 200, 250] # número de iteraciones o Epoch\n",
        "     }\n",
        "gsearch = RN_grid_search(X_train, y_train, param_grid, k=3)\n",
        "print(f'Mejores hiperparámetros:\\n {gsearch.best_params_}')\n",
        "print(f'Mejor exactitud (validación): {gsearch.best_score_:.6f}')"
      ]
    },
    {
      "cell_type": "code",
      "execution_count": null,
      "metadata": {
        "id": "zKKJZkrSR0Jg"
      },
      "outputs": [],
      "source": [
        "# Función de Métricas de Desempeño para la Red Neuronal\n",
        "\n",
        "from sklearn import metrics\n",
        "from scipy.stats.contingency import crosstab\n",
        "\n",
        "def RN_performance_metrics(gsearch, X_test, y_test):\n",
        "  \"\"\"\n",
        "  Entradas:\n",
        "    gsearch: Modelo entrenado con GridSearchCV\n",
        "    X_digits_test: Arreglo de numpy con shape (n, m)\n",
        "    y_digits_test: Arreglo de numpy con shape (n,)\n",
        "  Retorna:\n",
        "    accuracy: exactitud en prueba.\n",
        "    precision_macro: precisión macro en prueba.\n",
        "    recall_macro: recall macro en prueba.\n",
        "    f1_macro: f1 score macro en prueba.\n",
        "  \"\"\"\n",
        "\n",
        "  from sklearn.metrics import accuracy_score, precision_score, recall_score, f1_score\n",
        "  y_pred = gsearch.predict(X_test)\n",
        "  accuracy = accuracy_score(y_test, y_pred)\n",
        "  precision_macro = precision_score(y_test, y_pred, average=\"macro\")\n",
        "  recall_macro = recall_score(y_test, y_pred, average=\"macro\")\n",
        "  f1_macro = f1_score(y_test, y_pred, average=\"macro\")\n",
        "  options = [1, 2, 3]\n",
        "  ctable = crosstab(y_test, y_pred, levels=(options, options))\n",
        "  ctableductil1 = crosstab(y_test[0:400,], y_pred[0:400,], levels=(options, options))\n",
        "  ctableductil2 = crosstab(y_test[400:800,], y_pred[400:800,], levels=(options, options))\n",
        "  ctableductil3 = crosstab(y_test[800:1200,], y_pred[800:1200,], levels=(options, options))\n",
        "  ctablefragil1 = crosstab(y_test[1200:1600,], y_pred[1200:1600,], levels=(options, options))\n",
        "  ctablefragil2 = crosstab(y_test[1600:2000,], y_pred[1600:2000,], levels=(options, options))\n",
        "  ctablefragil3 = crosstab(y_test[2000:2400,], y_pred[2000:2400,], levels=(options, options))\n",
        "  ctablefatiga1 = crosstab(y_test[2400:2800,], y_pred[2400:2800,], levels=(options, options))\n",
        "  ctablefatiga2 = crosstab(y_test[2800:3200,], y_pred[2800:3200,], levels=(options, options))\n",
        "  ctablefatiga3 = crosstab(y_test[3200:3600,], y_pred[3200:3600,], levels=(options, options))\n",
        "\n",
        "  return accuracy, precision_macro, recall_macro, f1_macro, ctable.count, ctableductil1.count, ctableductil2.count, ctableductil3.count, ctablefragil1.count, ctablefragil2.count, ctablefragil3.count, ctablefatiga1.count, ctablefatiga2.count, ctablefatiga3.count"
      ]
    },
    {
      "cell_type": "code",
      "execution_count": null,
      "metadata": {
        "colab": {
          "base_uri": "https://localhost:8080/"
        },
        "id": "SsD5wPc8R0Jh",
        "outputId": "12a2eded-33f7-4203-e10d-901616033473"
      },
      "outputs": [
        {
          "name": "stdout",
          "output_type": "stream",
          "text": [
            "Exactitud en prueba: 0.803611\n",
            "Precisión macro en prueba: 0.829831\n",
            "Recall macro en prueba: 0.803611\n",
            "F1 macro en prueba: 0.801376\n"
          ]
        }
      ],
      "source": [
        "# Métrica de desempeño de la Red Neuronal 1\n",
        "\n",
        "acc, prec, rec, f1, ctable, ctableductil1, ctableductil2, ctableductil3, ctablefragil1, ctablefragil2, ctablefragil3, ctablefatiga1, ctablefatiga2, ctablefatiga3 = RN_performance_metrics(gsearch, X_test, y_test)\n",
        "print(f'Exactitud en prueba: {acc:.6f}')\n",
        "print(f'Precisión macro en prueba: {prec:.6f}')\n",
        "print(f'Recall macro en prueba: {rec:.6f}')\n",
        "print(f'F1 macro en prueba: {f1:.6f}')"
      ]
    },
    {
      "cell_type": "code",
      "execution_count": null,
      "metadata": {
        "colab": {
          "base_uri": "https://localhost:8080/"
        },
        "id": "c0X4FuqEv2oM",
        "outputId": "084bcf79-fff3-41b7-ae47-8af38252749f"
      },
      "outputs": [
        {
          "name": "stdout",
          "output_type": "stream",
          "text": [
            "General por curvas\n",
            "[[ 729   47  424]\n",
            " [  65 1027  108]\n",
            " [  52   11 1137]]\n",
            "0.8036111111111112\n",
            "0.6075\n",
            "0.8558333333333333\n",
            "0.9475\n"
          ]
        }
      ],
      "source": [
        "# Métrica de desempeño de la Red Neuronal 2\n",
        "\n",
        "print(\"General por curvas\")\n",
        "print(ctable)\n",
        "print((ctable[0,0]+ctable[1,1]+ctable[2,2])/3600)\n",
        "print(ctable[0,0]/1200)\n",
        "print(ctable[1,1]/1200)\n",
        "print(ctable[2,2]/1200)\n",
        "\n",
        "\n"
      ]
    },
    {
      "cell_type": "code",
      "execution_count": null,
      "metadata": {
        "colab": {
          "base_uri": "https://localhost:8080/"
        },
        "id": "HGUXKVX4v2oP",
        "outputId": "034631f6-dcae-4d68-9b5e-7f907e1db308"
      },
      "outputs": [
        {
          "name": "stdout",
          "output_type": "stream",
          "text": [
            "Por fotos dúctiles\n",
            "[[362  17  21]\n",
            " [  0   0   0]\n",
            " [  0   0   0]]\n",
            "[[189   6 205]\n",
            " [  0   0   0]\n",
            " [  0   0   0]]\n",
            "[[178  24 198]\n",
            " [  0   0   0]\n",
            " [  0   0   0]]\n"
          ]
        }
      ],
      "source": [
        "# Métrica de desempeño de la Red Neuronal 3\n",
        "print(\"Por fotos dúctiles\")\n",
        "print(ctableductil1)\n",
        "print(ctableductil2)\n",
        "print(ctableductil3)"
      ]
    },
    {
      "cell_type": "code",
      "execution_count": null,
      "metadata": {
        "colab": {
          "base_uri": "https://localhost:8080/"
        },
        "id": "cLQsVpRev2oX",
        "outputId": "d39f31e7-6373-4e80-959c-0314dfaa95dc"
      },
      "outputs": [
        {
          "name": "stdout",
          "output_type": "stream",
          "text": [
            "Por fotos frágiles\n",
            "[[  0   0   0]\n",
            " [ 28 356  16]\n",
            " [  0   0   0]]\n",
            "[[  0   0   0]\n",
            " [  5 380  15]\n",
            " [  0   0   0]]\n",
            "[[  0   0   0]\n",
            " [ 32 291  77]\n",
            " [  0   0   0]]\n"
          ]
        }
      ],
      "source": [
        "print(\"Por fotos frágiles\")\n",
        "print(ctablefragil1)\n",
        "print(ctablefragil2)\n",
        "print(ctablefragil3)"
      ]
    },
    {
      "cell_type": "code",
      "execution_count": null,
      "metadata": {
        "colab": {
          "base_uri": "https://localhost:8080/"
        },
        "id": "T_vgd_A6v2oY",
        "outputId": "bad628d0-e25c-43b1-e138-feb1115f388a"
      },
      "outputs": [
        {
          "name": "stdout",
          "output_type": "stream",
          "text": [
            "Por fotos fatiga\n",
            "[[  0   0   0]\n",
            " [  0   0   0]\n",
            " [ 12   0 388]]\n",
            "[[  0   0   0]\n",
            " [  0   0   0]\n",
            " [ 40  11 349]]\n",
            "[[  0   0   0]\n",
            " [  0   0   0]\n",
            " [  0   0 400]]\n"
          ]
        }
      ],
      "source": [
        "print(\"Por fotos fatiga\")\n",
        "print(ctablefatiga1)\n",
        "print(ctablefatiga2)\n",
        "print(ctablefatiga3)"
      ]
    },
    {
      "cell_type": "markdown",
      "metadata": {
        "id": "zI584XW3iOOG"
      },
      "source": [
        "## **12. Clasificación con Red Neuronal de 2 Capas Ocultas**\n",
        "\n",
        "A continuación se procede a entrenar el modelo y encontrar hiperparámetros óptimos."
      ]
    },
    {
      "cell_type": "code",
      "execution_count": 13,
      "metadata": {
        "id": "LZsQVUHLiOOX"
      },
      "outputs": [],
      "source": [
        "# Función para entregar gsearch de la Red Neuronal.\n",
        "from sklearn import model_selection\n",
        "\n",
        "def RN_grid_search(X_train, y_train, param_grid, k, seed = 333):\n",
        "  \"\"\"\n",
        "  Entradas:\n",
        "    X_train: Arreglo de NumPy con shape (n, m),\n",
        "    y_train: Arreglo de NumPy con shape (n,).\n",
        "    param_grid: Hiperparámetros a explorar.\n",
        "    k: Número de pliegues de validación cruzada\n",
        "    seed: semilla aleatoria para la creación de la partición.\n",
        "  Retorna:\n",
        "    gsearch: GridSearchCV entrenado con X_train y y_train.\n",
        "  \"\"\"\n",
        "\n",
        "  from sklearn.neural_network import MLPClassifier\n",
        "  RN_clf = MLPClassifier(learning_rate='constant', # Tipo de tasa de aprendizaje.\n",
        "                    learning_rate_init=0.001, # Tasa de aprendizaje inicial.\n",
        "                    tol= 1e-4)          # Valor de tolerancia de la optimización.\n",
        "\n",
        "\n",
        "  # Declarar y entrenar el objeto GridSearchCV.\n",
        "  from sklearn.model_selection import GridSearchCV\n",
        "  gsearch = GridSearchCV(RN_clf,\n",
        "                   cv=k,\n",
        "                   param_grid=param_grid,\n",
        "                   return_train_score=True\n",
        "                    )\n",
        "  gsearch.fit(X_train, y_train)\n",
        "\n",
        "  return gsearch"
      ]
    },
    {
      "cell_type": "code",
      "execution_count": 14,
      "metadata": {
        "colab": {
          "base_uri": "https://localhost:8080/"
        },
        "id": "pbXDHOOAiOOb",
        "outputId": "611c68f5-48c1-45c3-d6ca-0414cf511c8d"
      },
      "outputs": [
        {
          "output_type": "stream",
          "name": "stdout",
          "text": [
            "Mejores hiperparámetros:\n",
            " {'activation': 'relu', 'hidden_layer_sizes': (300, 12), 'max_iter': 200, 'solver': 'adam'}\n",
            "Mejor exactitud (validación): 0.735476\n"
          ]
        }
      ],
      "source": [
        "# Mejores Hiperparámetros Obtenidos de la red neuronal\n",
        "param_grid = {\n",
        "    \"hidden_layer_sizes\": [(300,50), (300,25), (300,12), (300,6)],     # Número de neuronas.\n",
        "    \"activation\" : [\"relu\"],    # Función de activación\n",
        "    \"solver\" : ['adam'], # Solucionador optimizar funciones de peso\n",
        "    \"max_iter\" : [200, 250, 300] # número de iteraciones o Epoch\n",
        "     }\n",
        "\n",
        "gsearch = RN_grid_search(X_train, y_train, param_grid, k=3)\n",
        "print(f'Mejores hiperparámetros:\\n {gsearch.best_params_}')\n",
        "print(f'Mejor exactitud (validación): {gsearch.best_score_:.6f}')"
      ]
    },
    {
      "cell_type": "code",
      "execution_count": 15,
      "metadata": {
        "id": "5ahtdOJHiOOe"
      },
      "outputs": [],
      "source": [
        "# Función de Métricas de Desempeño para la Red Neuronal\n",
        "\n",
        "from sklearn import metrics\n",
        "from scipy.stats.contingency import crosstab\n",
        "\n",
        "def RN_performance_metrics(gsearch, X_test, y_test):\n",
        "  \"\"\"\n",
        "  Entradas:\n",
        "    gsearch: Modelo entrenado con GridSearchCV\n",
        "    X_digits_test: Arreglo de numpy con shape (n, m)\n",
        "    y_digits_test: Arreglo de numpy con shape (n,)\n",
        "  Retorna:\n",
        "    accuracy: exactitud en prueba.\n",
        "    precision_macro: precisión macro en prueba.\n",
        "    recall_macro: recall macro en prueba.\n",
        "    f1_macro: f1 score macro en prueba.\n",
        "  \"\"\"\n",
        "\n",
        "  from sklearn.metrics import accuracy_score, precision_score, recall_score, f1_score\n",
        "  y_pred = gsearch.predict(X_test)\n",
        "  accuracy = accuracy_score(y_test, y_pred)\n",
        "  precision_macro = precision_score(y_test, y_pred, average=\"macro\")\n",
        "  recall_macro = recall_score(y_test, y_pred, average=\"macro\")\n",
        "  f1_macro = f1_score(y_test, y_pred, average=\"macro\")\n",
        "  options = [1, 2, 3]\n",
        "  ctable = crosstab(y_test, y_pred, levels=(options, options))\n",
        "  ctableductil1 = crosstab(y_test[0:400,], y_pred[0:400,], levels=(options, options))\n",
        "  ctableductil2 = crosstab(y_test[400:800,], y_pred[400:800,], levels=(options, options))\n",
        "  ctableductil3 = crosstab(y_test[800:1200,], y_pred[800:1200,], levels=(options, options))\n",
        "  ctablefragil1 = crosstab(y_test[1200:1600,], y_pred[1200:1600,], levels=(options, options))\n",
        "  ctablefragil2 = crosstab(y_test[1600:2000,], y_pred[1600:2000,], levels=(options, options))\n",
        "  ctablefragil3 = crosstab(y_test[2000:2400,], y_pred[2000:2400,], levels=(options, options))\n",
        "  ctablefatiga1 = crosstab(y_test[2400:2800,], y_pred[2400:2800,], levels=(options, options))\n",
        "  ctablefatiga2 = crosstab(y_test[2800:3200,], y_pred[2800:3200,], levels=(options, options))\n",
        "  ctablefatiga3 = crosstab(y_test[3200:3600,], y_pred[3200:3600,], levels=(options, options))\n",
        "\n",
        "  return accuracy, precision_macro, recall_macro, f1_macro, ctable.count, ctableductil1.count, ctableductil2.count, ctableductil3.count, ctablefragil1.count, ctablefragil2.count, ctablefragil3.count, ctablefatiga1.count, ctablefatiga2.count, ctablefatiga3.count"
      ]
    },
    {
      "cell_type": "code",
      "execution_count": 16,
      "metadata": {
        "colab": {
          "base_uri": "https://localhost:8080/"
        },
        "id": "m_6yeMJPiOOg",
        "outputId": "a62d2cc7-746f-44ea-abce-96ee4abd4321"
      },
      "outputs": [
        {
          "output_type": "stream",
          "name": "stdout",
          "text": [
            "Exactitud en prueba: 0.795000\n",
            "Precisión macro en prueba: 0.815608\n",
            "Recall macro en prueba: 0.795000\n",
            "F1 macro en prueba: 0.795955\n"
          ]
        }
      ],
      "source": [
        "# Métrica de desempeño de la Red Neuronal 1\n",
        "\n",
        "acc, prec, rec, f1, ctable, ctableductil1, ctableductil2, ctableductil3, ctablefragil1, ctablefragil2, ctablefragil3, ctablefatiga1, ctablefatiga2, ctablefatiga3 = RN_performance_metrics(gsearch, X_test, y_test)\n",
        "print(f'Exactitud en prueba: {acc:.6f}')\n",
        "print(f'Precisión macro en prueba: {prec:.6f}')\n",
        "print(f'Recall macro en prueba: {rec:.6f}')\n",
        "print(f'F1 macro en prueba: {f1:.6f}')"
      ]
    },
    {
      "cell_type": "code",
      "execution_count": 17,
      "metadata": {
        "colab": {
          "base_uri": "https://localhost:8080/"
        },
        "id": "shvwV4kEv4i1",
        "outputId": "425e1a92-bfe0-4e67-d434-d34b03f6e5bb"
      },
      "outputs": [
        {
          "output_type": "stream",
          "name": "stdout",
          "text": [
            "General por curvas\n",
            "[[ 836   23  341]\n",
            " [ 168  919  113]\n",
            " [  93    0 1107]]\n",
            "0.795\n",
            "0.6966666666666667\n",
            "0.7658333333333334\n",
            "0.9225\n"
          ]
        }
      ],
      "source": [
        "# Métrica de desempeño de la Red Neuronal 2\n",
        "\n",
        "print(\"General por curvas\")\n",
        "print(ctable)\n",
        "print((ctable[0,0]+ctable[1,1]+ctable[2,2])/3600)\n",
        "print(ctable[0,0]/1200)\n",
        "print(ctable[1,1]/1200)\n",
        "print(ctable[2,2]/1200)\n",
        "\n",
        "\n"
      ]
    },
    {
      "cell_type": "code",
      "execution_count": 18,
      "metadata": {
        "colab": {
          "base_uri": "https://localhost:8080/"
        },
        "id": "k2gCaZDCv4i9",
        "outputId": "e7c669c7-0627-4080-f74f-1eea04d507cd"
      },
      "outputs": [
        {
          "output_type": "stream",
          "name": "stdout",
          "text": [
            "Por fotos dúctiles\n",
            "[[381   9  10]\n",
            " [  0   0   0]\n",
            " [  0   0   0]]\n",
            "[[218   5 177]\n",
            " [  0   0   0]\n",
            " [  0   0   0]]\n",
            "[[237   9 154]\n",
            " [  0   0   0]\n",
            " [  0   0   0]]\n"
          ]
        }
      ],
      "source": [
        "# Métrica de desempeño de la Red Neuronal 3\n",
        "print(\"Por fotos dúctiles\")\n",
        "print(ctableductil1)\n",
        "print(ctableductil2)\n",
        "print(ctableductil3)"
      ]
    },
    {
      "cell_type": "code",
      "execution_count": 19,
      "metadata": {
        "colab": {
          "base_uri": "https://localhost:8080/"
        },
        "id": "JAeox_o8v4i-",
        "outputId": "27a4850b-31b0-4027-8f63-311e933b435b"
      },
      "outputs": [
        {
          "output_type": "stream",
          "name": "stdout",
          "text": [
            "Por fotos frágiles\n",
            "[[  0   0   0]\n",
            " [ 65 321  14]\n",
            " [  0   0   0]]\n",
            "[[  0   0   0]\n",
            " [ 19 363  18]\n",
            " [  0   0   0]]\n",
            "[[  0   0   0]\n",
            " [ 84 235  81]\n",
            " [  0   0   0]]\n"
          ]
        }
      ],
      "source": [
        "print(\"Por fotos frágiles\")\n",
        "print(ctablefragil1)\n",
        "print(ctablefragil2)\n",
        "print(ctablefragil3)"
      ]
    },
    {
      "cell_type": "code",
      "execution_count": 20,
      "metadata": {
        "colab": {
          "base_uri": "https://localhost:8080/"
        },
        "id": "SKiZ3ZmHv4jA",
        "outputId": "472971a2-3be0-4729-f355-08e48833b3fa"
      },
      "outputs": [
        {
          "output_type": "stream",
          "name": "stdout",
          "text": [
            "Por fotos fatiga\n",
            "[[  0   0   0]\n",
            " [  0   0   0]\n",
            " [ 12   0 388]]\n",
            "[[  0   0   0]\n",
            " [  0   0   0]\n",
            " [ 81   0 319]]\n",
            "[[  0   0   0]\n",
            " [  0   0   0]\n",
            " [  0   0 400]]\n"
          ]
        }
      ],
      "source": [
        "print(\"Por fotos fatiga\")\n",
        "print(ctablefatiga1)\n",
        "print(ctablefatiga2)\n",
        "print(ctablefatiga3)"
      ]
    },
    {
      "cell_type": "markdown",
      "metadata": {
        "id": "t5RObCKSGP1d"
      },
      "source": [
        "## **13. Conclusiones**\n",
        "\n",
        "Del trabajo realizado se pueden sacar las siguientes conclusiones:\n",
        "\n",
        "\n",
        "\n",
        "> Los mejores hiperparámetros dentro del rango de evaluación realizado fueron los siguientes: 1. Arbol de decisión (\"gini\" con profundidad de 25), 2. Random Forest (\"max features\": 0.1 y \"n_estimators: 100\"), 3. SVM Gaussiano (\"C\": 0.03125 y \"gamma\": 0.5), 4. SVM Poly de orden 3 (\"C\": 0.03125 y \"gamma\": 8), 5. SVM Sygmoid (\"C\": 0.03125 y \"gamma\": 0.5), 6. SVM Lineal (\"C\": 0.03125), 7. KNN (2 vecinos), 8. Red Neuronal de una capa oculta (100 neuronas en la capa), 9. Red Neuronal de dos capas ocultas (100 neuronas en la capa 1 y 12 en la capa 2).\n",
        "\n",
        "\n",
        "> Los tres modelos con mejor exactitud en el grupo de prueba fueron en orden descendente: 1. Random Forest (0.8775), 2. SVM Gaussiano (0.8708) y 3. Red Neuronal de 1 capa oculta (0.8127). Con tiempos de computo durante el gsearch de 5 minutos para Random Forest, 6 minutos para SVM Gaussiano y 13 minutos para la Red Neuronal.\n",
        "\n",
        "\n",
        "> Los tres modelos con menor exactitud en el grupo de prueba fueron SVM Sigmoide (0.33), KNN (0.46) y Regresion logistica (0.56). Estos modelos mostraron que ante estos datos analizados, que presentan importantes niveles de traslape entre los valores de las características, tienen poca capacidad de discriminación.\n",
        "\n",
        "\n",
        "> **Ya los tres modelos con mejor exactitud tienen valores por encima de 80%, se pueden calificar como sobresalientes para la labor de clasificación, sin embargo el costo computacional es menor en el modelo Random Forest, por lo que este es el mejor candidato para usarse como clasificador con estos datos.**\n",
        "\n",
        "\n",
        "\n",
        "\n",
        "\n",
        "\n",
        "\n"
      ]
    }
  ],
  "metadata": {
    "colab": {
      "provenance": []
    },
    "kernelspec": {
      "display_name": "Python 3",
      "name": "python3"
    },
    "language_info": {
      "name": "python"
    }
  },
  "nbformat": 4,
  "nbformat_minor": 0
}